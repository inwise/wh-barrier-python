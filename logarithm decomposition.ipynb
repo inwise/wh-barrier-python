{
 "cells": [
  {
   "cell_type": "markdown",
   "metadata": {},
   "source": [
    "Идея этого блокнота - в том, чтобы проверить, верна ли формула для комплексного логарифма, которую я получил на бумаге и насколько\n",
    "\n",
    "Исходный логагифм был таким:\n",
    "\n",
    "$$ \n",
    "\\ln(1 + \\frac{\\psi(\\upsilon+i\\omega_+)}{q})\n",
    "$$\n",
    "\n",
    "Я захотел разложить его в сумму действительной и мнимой частей.\n",
    "\n",
    "$$\n",
    "\\Re(\\ln(x+iy) = \\frac{1}{2} \\ln(x^2+y^2)\n",
    "$$\n",
    "$$\n",
    "\\Im(\\ln(x+iy) = \\arctan(\\frac{y}{x}) + 2\\pi k\n",
    "$$"
   ]
  },
  {
   "cell_type": "markdown",
   "metadata": {},
   "source": [
    "Вооружившись этим знанием, начнём раскладывать логарифм.\n",
    "\n",
    "$$\n",
    "\\ln(1 + \\frac{\\psi(\\upsilon+i\\omega_+)}{q}) = \\ln(q + \\psi(\\upsilon+i\\omega_+)) - \\ln(q)\n",
    "$$\n",
    "\n",
    "Уже неплохо, но дальнейшей декомпозиции для произвольной модели добиться не получится. Но всё не так плохо, потому что есть ограничения на вид $\\psi(\\xi)$, в силу того, что это РПЛЭ. Позже воплотим их, пока рассмотрим модель Б-Ш.\n",
    "\n",
    "$$\\psi(\\xi) = \\frac{\\sigma^2}{2} \\xi^2 - i\\gamma\\xi$$"
   ]
  },
  {
   "cell_type": "markdown",
   "metadata": {},
   "source": [
    "$$\n",
    "f(\\upsilon) = (\\ln(q + \\psi(\\upsilon+i\\omega_+)) - \\ln(q) = \\ln(q + \\frac{\\sigma^2}{2} (\\upsilon+i\\omega_+)^2 - i\\gamma(\\upsilon+i\\omega_+)) - \\ln(q) =\n",
    "$$\n",
    "\n",
    "$$\n",
    "= \\ln(q + \\frac{\\sigma^2}{2} (\\upsilon^2+ 2i\\upsilon\\omega_+ + (i\\omega_+)^2) - i\\gamma\\upsilon - i\\gamma i\\omega_+) - \\ln(q) = \\ln(q + \\frac{\\sigma^2}{2} (\\upsilon^2+ 2i\\upsilon\\omega_+ - \\omega_+^2) - i\\gamma\\upsilon + \\gamma\\omega_+) - \\ln(q) = \n",
    "$$\n",
    "\n",
    "$$\n",
    "= \\ln(q + \\frac{\\sigma^2}{2} \\upsilon^2 + i\\sigma^2 \\upsilon\\omega_+ - \\frac{\\sigma^2}{2}\\omega_+^2 - i\\gamma\\upsilon + \\gamma\\omega_+) - \\ln(q) = \n",
    "\\ln((q + \\frac{\\sigma^2}{2} \\upsilon^2 - \\frac{\\sigma^2}{2}\\omega_+^2 + \\gamma\\omega_+) + i(\\sigma^2 \\upsilon\\omega_+ - \\gamma\\upsilon) ) - \\ln(q) =\n",
    "$$\n",
    "\n",
    "$$\n",
    "= \\ln((q + \\frac{\\sigma^2}{2} (\\upsilon^2 - \\omega_+^2) + \\gamma\\omega_+) + i(\\upsilon(\\sigma^2\\omega_+ - \\gamma)) ) - \\ln(q) =\n",
    "$$\n",
    "\n",
    "Используя $ x = q + \\frac{\\sigma^2}{2} (\\upsilon^2 - \\omega_+^2) + \\gamma\\omega_+$ и $ y = \\upsilon(\\sigma^2 \\omega_+ - \\gamma) )$, можно воплотить формулы, описанные в первом блоке.\n",
    "\n",
    "Итак,\n",
    "\n",
    "$$\n",
    "\\Re f = \\frac{1}{2} \\ln((q + \\frac{\\sigma^2}{2} (\\upsilon^2 - \\omega_+^2) + \\gamma\\omega_+)^2 + \\upsilon(\\sigma^2 \\omega_+ - \\gamma)^2) - \\ln(q)\n",
    "$$\n",
    "\n",
    "$$\n",
    "\\Im f = \\arctan(y/x) + 2\\pi k = \\arctan(\\frac{\\upsilon(\\sigma^2 \\omega_+ - \\gamma)}{q + \\frac{\\sigma^2}{2} (\\upsilon^2 - \\omega_+^2) + \\gamma\\omega_+}) + 2\\pi k\n",
    "$$\n"
   ]
  },
  {
   "cell_type": "markdown",
   "metadata": {},
   "source": [
    "Вооружившись всем этим, можно получить декомпозицию:\n",
    "$f = \\Re f + i\\Im f = \\frac{1}{2} \\ln((q + \\frac{\\sigma^2}{2} (\\upsilon^2 - \\omega_+^2) + \\gamma\\omega_+)^2 + \\upsilon(\\sigma^2 \\omega_+ - \\gamma)^2) - \\ln(q) + i (\\arctan(\\frac{\\upsilon(\\sigma^2 \\omega_+ - \\gamma)}{q + \\frac{\\sigma^2}{2} (\\upsilon^2 - \\omega_+^2) + \\gamma\\omega_+}) + 2\\pi k) $\n",
    "\n",
    "Выберем главное значение, положив $k=0$. Тогда\n",
    "\n",
    "$f = \\Re f + i\\Im f = \\frac{1}{2} \\ln((q + \\frac{\\sigma^2}{2} (\\upsilon^2 - \\omega_+^2) + \\gamma\\omega_+)^2 + \\upsilon(\\sigma^2 \\omega_+ - \\gamma)^2) - \\ln(q) + i (\\arctan(\\frac{\\upsilon(\\sigma^2 \\omega_+ - \\gamma)}{q + \\frac{\\sigma^2}{2} (\\upsilon^2 - \\omega_+^2) + \\gamma\\omega_+})) $\n",
    "\n",
    "Можно переходить к кодированию формул."
   ]
  },
  {
   "cell_type": "markdown",
   "metadata": {},
   "source": [
    "Сначала - оригинальный вид:\n",
    "\n",
    "$$ \n",
    "\\ln(1 + \\frac{\\psi(\\upsilon+i\\omega_+)}{q})\n",
    "$$\n",
    "\n",
    "Поскольку мы в модели Б-Ш, он запишется в виде\n",
    "\n",
    "$ \n",
    "\\ln(1 + \\frac{\\frac{\\sigma^2}{2}(\\upsilon+i\\omega_+)^2 - i\\gamma(\\upsilon+i\\omega_+)}{q})\n",
    "$"
   ]
  },
  {
   "cell_type": "code",
   "execution_count": 7,
   "metadata": {
    "collapsed": false
   },
   "outputs": [
    {
     "name": "stdout",
     "output_type": "stream",
     "text": [
      "(0.634360978347+0.0413173638614j)\n"
     ]
    }
   ],
   "source": [
    "from numpy import log\n",
    "\n",
    "V0 = 0.3\n",
    "r_premia = 10\n",
    "r = log(r_premia/100 + 1)\n",
    "sigma = V0\n",
    "gamma = r - 0.5 * sigma**2\n",
    "omega_plus = 1\n",
    "T = 1\n",
    "N = 5\n",
    "delta_t = T/N\n",
    "q = 1.0/delta_t + r\n",
    "\n",
    "def f_original(v):\n",
    "    frac_numerator = (sigma**2 / 2) * (v + 1j * omega_plus)**2 - 1j*gamma*(v + 1j * omega_plus)\n",
    "    frac_denominator = q\n",
    "    argument = 1 + frac_numerator/frac_denominator\n",
    "    return(log(argument))\n",
    "\n",
    "print(f_original(10))"
   ]
  },
  {
   "cell_type": "markdown",
   "metadata": {},
   "source": [
    "Теперь декомпозированный вариант\n",
    "$$\n",
    "f(\\upsilon) = \\frac{1}{2} \\ln((q + \\frac{\\sigma^2}{2} (\\upsilon^2 - \\omega_+^2) + \\gamma\\omega_+)^2 + \\upsilon(\\sigma^2 \\omega_+ - \\gamma)^2) - \\ln(q) + i (\\arctan(\\frac{\\upsilon(\\sigma^2 \\omega_+ - \\gamma)}{q + \\frac{\\sigma^2}{2} (\\upsilon^2 - \\omega_+^2) + \\gamma\\omega_+})) \n",
    "$$\n",
    "\n",
    "Лучше использовать представление:\n",
    "$ x = q + \\frac{\\sigma^2}{2} (\\upsilon^2 - \\omega_+^2) + \\gamma\\omega_+$ и $ y = \\upsilon(\\sigma^2 \\omega_+ - \\gamma) )$\n",
    "\n",
    "$f =  \\frac{1}{2}ln(r^2) + i\\arctan(\\frac{y}{x}) $\n",
    "где $r = (x^2 + y^2)^{\\frac{1}{2}}$"
   ]
  },
  {
   "cell_type": "code",
   "execution_count": 13,
   "metadata": {
    "collapsed": false
   },
   "outputs": [
    {
     "name": "stdout",
     "output_type": "stream",
     "text": [
      "(0.634360978347+0.0413173638614j)\n"
     ]
    }
   ],
   "source": [
    "from numpy import log\n",
    "from numpy import arctan\n",
    "\n",
    "def f_decomposed(v):\n",
    "    x = q + sigma**2/2 * (v**2 - omega_plus**2) + gamma * omega_plus\n",
    "    y = v * (sigma**2 * omega_plus - gamma)\n",
    "    ln_first = 0.5 * log(x**2 + y**2)\n",
    "    real_part = ln_first - log(q)\n",
    "    imag_part = arctan(y/x)\n",
    "    return real_part + 1j * imag_part\n",
    "\n",
    "print(f_decomposed(10))"
   ]
  },
  {
   "cell_type": "code",
   "execution_count": 17,
   "metadata": {
    "collapsed": false
   },
   "outputs": [
    {
     "data": {
      "image/png": "[encoded data removed]",
      "text/plain": [
       "<matplotlib.figure.Figure at 0x7f7b04266cc0>"
      ]
     },
     "metadata": {},
     "output_type": "display_data"
    }
   ],
   "source": [
    "from numpy import linspace, abs\n",
    "import matplotlib.pyplot as plt\n",
    "\n",
    "space = linspace(-100, 100, num=1000)\n",
    "\n",
    "error = (abs(f_decomposed(space)) - abs(f_original(space)))/abs(f_original(space))\n",
    "plt.plot(error)\n",
    "plt.show()"
   ]
  }
 ],
 "metadata": {
  "anaconda-cloud": {},
  "kernelspec": {
   "display_name": "Python [conda root]",
   "language": "python",
   "name": "conda-root-py"
  },
  "language_info": {
   "codemirror_mode": {
    "name": "ipython",
    "version": 3
   },
   "file_extension": ".py",
   "mimetype": "text/x-python",
   "name": "python",
   "nbconvert_exporter": "python",
   "pygments_lexer": "ipython3",
   "version": "3.5.2"
  }
 },
 "nbformat": 4,
 "nbformat_minor": 1
}
