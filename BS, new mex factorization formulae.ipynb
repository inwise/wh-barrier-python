{
 "cells": [
  {
   "cell_type": "markdown",
   "metadata": {},
   "source": [
    "### Попробуем здесь адаптировать новые формулы факторизации для модели Б-Ш, чтобы сравнить их впоследствии с имеющимися."
   ]
  },
  {
   "cell_type": "code",
   "execution_count": 1,
   "metadata": {
    "collapsed": true
   },
   "outputs": [],
   "source": [
    "import numpy as np\n",
    "from numpy import log, sqrt, exp, fft, array, pi\n",
    "import matplotlib.pyplot as plt"
   ]
  },
  {
   "cell_type": "markdown",
   "metadata": {},
   "source": [
    "Параметры контракта down-and-out put"
   ]
  },
  {
   "cell_type": "code",
   "execution_count": 2,
   "metadata": {
    "collapsed": true
   },
   "outputs": [],
   "source": [
    "# model parameters - we are going to evaluate a barrier put\n",
    "T = 1\n",
    "H_original = 90.0 # limit\n",
    "K_original = 100.0 # strike\n",
    "r_premia = 10 # annual interest rate\n",
    "r = log(r_premia/100 + 1)\n",
    "V0 = 0.316227766"
   ]
  },
  {
   "cell_type": "code",
   "execution_count": 3,
   "metadata": {
    "collapsed": true
   },
   "outputs": [],
   "source": [
    "# Определим функцию выплат:\n",
    "def G(y, barrier, strike):\n",
    "    \"\"\"payoff_function for a given option type (down-and-out put there)\"\"\"\n",
    "    if (barrier <= y) and (y <= strike):\n",
    "        return K_original - H_original*exp(y)\n",
    "    else:\n",
    "        return 0"
   ]
  },
  {
   "cell_type": "markdown",
   "metadata": {},
   "source": [
    "Характеристическая экспонента процесса Б-Ш\n",
    "$$\\psi(\\xi) = \\frac{{\\color{green}{\\sigma}}^2}{2} \\xi^2 - i{\\color{green}{\\gamma}}\\xi$$"
   ]
  },
  {
   "cell_type": "code",
   "execution_count": 4,
   "metadata": {
    "collapsed": true
   },
   "outputs": [],
   "source": [
    "sigma = V0\n",
    "gamma = r - 0.5 * sigma**2 # Black-Scholes parameter, from a no-arbitrage condition\n",
    "\n",
    "def psi(xi):\n",
    "    return (sigma**2/2) * xi * xi - 1j*gamma*xi"
   ]
  },
  {
   "cell_type": "markdown",
   "metadata": {},
   "source": [
    "Подготавливаем дискретизацию, задаём шкалу по переменной, связанной с ценой, производим замены\n",
    "$$ y = ln(S)$$\n",
    "$$ K = ln(K), H = ln(H) $$\n",
    "\n",
    "Укладываем $M$ точек между $L \\cdot ln(1/2)$  и $ L \\cdot ln(2) $"
   ]
  },
  {
   "cell_type": "markdown",
   "metadata": {},
   "source": [
    "При этом заметим, что наши  действия с разбиением не будут безобидными - природа функций, интегралы от которых мы будем брать, требует мелкой сетки и по переменной $\\xi$ (частот), и по $y$ (или $x$) - (цен), а по переменной часот - ещё и довольно значительного (пока) разлёта.\n",
    "\n",
    "Схема преобразований Фурье будет переносить нас по сеткам в следующем порядке.\n",
    "\n",
    "1. $y \\rightarrow \\xi$ - FT для вычисления оператора\n",
    "2. $\\xi \\rightarrow y$ - iFT для вычисления 1-го слагаемого приближённого символа\n",
    "3. $y \\rightarrow \\xi$ - FT для вычисления 2-го слагаемого приближённого символа\n",
    "4. $\\xi \\rightarrow y$ - FT из оператора обратно\n",
    "\n",
    "Учитывая, что мы используем один и тот же вид FT, вид пространства после переноса определяется только количеством точек и шагом и известен с самого начала."
   ]
  },
  {
   "cell_type": "code",
   "execution_count": 5,
   "metadata": {
    "collapsed": false
   },
   "outputs": [
    {
     "name": "stdout",
     "output_type": "stream",
     "text": [
      "В вычислениях будет использовано всего 65536 точек\n",
      "du =  0.0958737992428\n",
      "Частота меняется от  -3141.592653589793 до 3141.592653589793\n",
      "dx =  0.001\n",
      "Пространственная переменная меняется от  -32.768 до 32.767\n",
      "Отношение длин диапазонов пространство/частота: 0.0104302191955\n",
      "Отношение длин диапазонов частота/пространство: 95.8752621833\n",
      "L = 1\n",
      "Диапазон пространства в лог. шкале в терминах L был бы от  -0.69314718056 до 0.69314718056\n"
     ]
    }
   ],
   "source": [
    "M = 2**16\n",
    "\n",
    "# потому что dy нужно править много где, пока запомним, что dy = dx\n",
    "dx = 0.001\n",
    "\n",
    "x_space = np.linspace( -M*dx/2, M*dx/2, num = M, endpoint = False)\n",
    "u_space = np.linspace(-pi/dx, pi/dx, num = M, endpoint = False)\n",
    "du = u_space[1] - u_space[0]\n",
    "\n",
    "print(\"В вычислениях будет использовано всего\", M, \"точек\")\n",
    "print(\"du = \", du)\n",
    "print(\"Частота меняется от \", -pi/dx, \"до\", pi/dx)\n",
    "\n",
    "print(\"dx = \", dx)\n",
    "print(\"Пространственная переменная меняется от \", x_space[0], \"до\", x_space[M-1])\n",
    "\n",
    "print(\"Отношение длин диапазонов пространство/частота:\", (x_space[M-1] -  x_space[0])/(2*pi/dx))\n",
    "print(\"Отношение длин диапазонов частота/пространство:\", (2*pi/dx)/(x_space[M-1] -  x_space[0]))\n",
    "\n",
    "L = 1  # scaling coefficient\n",
    "y_min = L * log(0.5)\n",
    "y_max = L * log(2.0)\n",
    "\n",
    "K = log(K_original/H_original)\n",
    "H = log(H_original/H_original)\n",
    "y_space = x_space # prices array\n",
    "\n",
    "print('L =', L)\n",
    "print(\"Диапазон пространства в лог. шкале в терминах L был бы от \", y_min, 'до', y_max)"
   ]
  },
  {
   "cell_type": "code",
   "execution_count": 6,
   "metadata": {
    "collapsed": false
   },
   "outputs": [],
   "source": [
    "\n",
    "# plt.plot(y_space, color = 'y')\n",
    "# plt.ylabel('price line in logscale')\n",
    "# plt.show()"
   ]
  },
  {
   "cell_type": "markdown",
   "metadata": {},
   "source": [
    "Теперь дискретизация по времени:"
   ]
  },
  {
   "cell_type": "code",
   "execution_count": 7,
   "metadata": {
    "collapsed": false
   },
   "outputs": [
    {
     "data": {
      "image/png": "[encoded data removed]",
      "text/plain": [
       "<matplotlib.figure.Figure at 0x7f796ab18ba8>"
      ]
     },
     "metadata": {},
     "output_type": "display_data"
    }
   ],
   "source": [
    "original_prices_array = H_original * exp(y_space)\n",
    "# time discretization\n",
    "N = 20  # number_of_time_steps\n",
    "delta_t = T/N\n",
    "\n",
    "plt.plot(original_prices_array, color = 'y')\n",
    "plt.ylabel('prices in linear scale')\n",
    "plt.show()"
   ]
  },
  {
   "cell_type": "markdown",
   "metadata": {},
   "source": [
    "Величины, связанные с факторизацией. В этой модели всё просто - при постоянной вариации нет необходимости учитывать эффекты решётки вариации.\n",
    "\n",
    "Действие, которое мы хотим произвести на каждом шаге по времени, выглядит так:\n",
    "$$f_n(y) = ({\\color{green}{q\\Delta t}}) ^{-1} \\mathcal{E}_{\\color{green}{q}}^- 1_{y>ln(H)} \\mathcal{E}_{\\color{green}{q}}^+ f_{n+1}(y)$$\n",
    "\n",
    "Получить хотим $f_0(y)$, там для каждого y и ответ лежит\n",
    "\n",
    "Зелёные - константы. Определим их."
   ]
  },
  {
   "cell_type": "code",
   "execution_count": 8,
   "metadata": {
    "collapsed": false,
    "scrolled": true
   },
   "outputs": [
    {
     "name": "stdout",
     "output_type": "stream",
     "text": [
      "q =  20.0953101798\n",
      "Множитель каждого шага = 0.995257093374\n"
     ]
    }
   ],
   "source": [
    "q = 1.0/delta_t + r\n",
    "print('q = ', q)\n",
    "factor = (q*delta_t)**(-1)\n",
    "print('Множитель каждого шага =', factor)\n",
    "\n",
    "# Зададим начальные уловия\n",
    "f_N = array([G(y_element, H, K) for y_element in y_space]) # = g(x) i.e. payoff func\n",
    "\n",
    "# plt.plot(original_prices_array, f_N,  'y')\n",
    "# plt.ylabel('initial conditions, payoff func')\n",
    "# plt.xlabel('stock price', color = 'y')\n",
    "# plt.show()"
   ]
  },
  {
   "cell_type": "markdown",
   "metadata": {},
   "source": [
    "В уравнении выше есть нигде пока не определённные функции (на самом деле, операторы)\n",
    "$$ \\mathcal{E}^\\pm_q f(x) = (2\\pi)^{-1} \\int_{-\\infty}^{+\\infty} e^{ix\\xi} \\phi^\\pm_q (\\xi) \\hat{f}(\\xi) d\\xi $$\n",
    "\n",
    "\n",
    "А в них - пока не определённые $\\phi_q^\\pm$\n",
    "\n",
    "Подробно процедуры для их вычисления описаны с сопутствующими соображениями в блокноте Mex-BS new mex symbol comparison. Здесь же составим краткие версии процедур. Сперва нужное нам потом везде преобразование Фурье, определённое \"как надо\""
   ]
  },
  {
   "cell_type": "code",
   "execution_count": 9,
   "metadata": {
    "collapsed": true
   },
   "outputs": [],
   "source": [
    "def make_rad_fft(f_x, d):\n",
    "    '''\n",
    "    Вычисляет преобразование Фурье без двух \"пи\" в показателе экспоненты\n",
    "    \n",
    "    Параметры:\n",
    "    \n",
    "    f_x - массив значений функции, задаваемый \"как есть\", без особенностей хранения\n",
    "    и определённый на диапазоне [-M*dx/2, M*dx/2] в M = 2**N равноудалённых точках, без последней.\n",
    "    \n",
    "    d = dx - желаемый шаг по переменной x\n",
    "    \n",
    "    Области определения:\n",
    "    \n",
    "    xi_space = np.linspace( -pi/dx, pi/dx, num = M, endpoint = False)\n",
    "    x_space = np.linspace( -M*dx/2, M*dx/2, num = M, endpoint = False)\n",
    "    '''\n",
    "    dx = d\n",
    "    M = len(f_x)\n",
    "    \n",
    "    sign_change_k = np.array([(-1)**k for k in range(0, M)])\n",
    "    sign_change_l = np.array([(-1)**l for l in range(0, M)])\n",
    "    #учитываем порядок хранения\n",
    "    sign_change_l = fft.fftshift(sign_change_l)\n",
    "\n",
    "    f = sign_change_k * f_x\n",
    "    f_hat = dx * sign_change_l * fft.fft(f)\n",
    "    \n",
    "    # избегаем особенностей хранения результатов fft, нам они не нужны.\n",
    "    return f_hat\n",
    "\n",
    "def make_rad_ifft(f_hat_xi, d):\n",
    "    '''\n",
    "    Вычисляет обратное преобразование Фурье без двух \"пи\" в показателе экспоненты\n",
    "    \n",
    "    Параметры:\n",
    "    \n",
    "    f_xi - массив значений функции, задаваемый \"как есть\", без особенностей хранения\n",
    "    и определённый на диапазоне [-pi/d, pi/d] в M = 2**N равноудалённых точках, без последней.\n",
    "    \n",
    "    d = dx - желаемый шаг по переменной x, после того, как ifft отработает\n",
    "    \n",
    "    Области определения:\n",
    "    \n",
    "    xi_space = np.linspace( -pi/dx, pi/dx, num = M, endpoint = False)\n",
    "    x_space = np.linspace( -M*dx/2, M*dx/2, num = M, endpoint = False)\n",
    "\n",
    "    '''\n",
    "    dx = d\n",
    "    M = len(f_hat_xi)\n",
    "\n",
    "    sign_change_k = np.array([(-1)**k for k in range(0, M)])\n",
    "    sign_change_l = np.array([(-1)**l for l in range(0, M)])\n",
    "\n",
    "    f =  (1/(dx)) * sign_change_k * fft.ifft(sign_change_l * f_hat_xi)\n",
    "    return f"
   ]
  },
  {
   "cell_type": "markdown",
   "metadata": {},
   "source": [
    "## Фи-минус"
   ]
  },
  {
   "cell_type": "markdown",
   "metadata": {},
   "source": [
    "$\\phi^-_q(\\xi)$ будут иметь вид:\n",
    "\n",
    "$$ \\phi^-_q(\\xi) = exp[-i\\xi F^-(0) - \\xi^2 \\hat{F}^-(\\xi)] $$\n",
    "\n",
    "$$ F^-(x) = 1_{[0,+\\infty)}(x)(2\\pi)^{-1} \\int_{-\\infty + i\\omega_+}^{+\\infty + i\\omega_+} e^{ix\\eta} \\frac{ln(q+\\psi(\\eta))}{\\eta^2} d\\eta =$$\n",
    "$$= 1_{[0,+\\infty)}(x)(2\\pi)^{-1} \\int_{-\\infty}^{+\\infty} e^{ix(\\upsilon+i\\omega_+)} \\frac{ln(q+\\psi(\\upsilon+i\\omega_+))}{(\\upsilon+i\\omega_+)^2} d(\\upsilon) =  $$\n",
    "$$= 1_{[0,+\\infty)}(x)e^{-x\\omega_+}\\frac{1}{2\\pi} \\int_{-\\infty}^{+\\infty} e^{ix(\\upsilon)} \\frac{ln(q+\\psi(\\upsilon+i\\omega_+))}{(\\upsilon+i\\omega_+)^2} d(\\upsilon) $$\n",
    "$$ \\hat{F}^-(\\xi) = \\int_{-\\infty}^{+\\infty} e^{-ix\\xi} F^-(x) dx $$"
   ]
  },
  {
   "cell_type": "code",
   "execution_count": 10,
   "metadata": {
    "collapsed": true
   },
   "outputs": [],
   "source": [
    "omega_plus = 1\n",
    "\n",
    "def integrand_minus(upsilon_array):\n",
    "    \"\"\"\n",
    "    принимает и возвращает массив длиной в степень двойки, исходя из логики дальнейшего использования\n",
    "    \"\"\"\n",
    "    return np.array([log(q + psi(upsilon + 1j*omega_plus)) / (upsilon + 1j*omega_plus)**2 for upsilon in upsilon_array])\n",
    "\n",
    "def F_minus_capital():\n",
    "    indicator = np.where(x_space >= 0, 1, 0)\n",
    "    trimmed_x_space = indicator*x_space # чтобы при \"сильно отрицательных\" x не росла экспонента\n",
    "    integral = make_rad_ifft(integrand_minus(u_space), dx)\n",
    "    exponent = exp(-trimmed_x_space * omega_plus)\n",
    "    return indicator * exponent * integral \n",
    "\n",
    "fm = F_minus_capital()\n",
    "\n",
    "F_m_hat = make_rad_fft(fm, dx)\n",
    "\n",
    "def make_phi_minus_array(xi_array):\n",
    "    first_term = - 1j * xi_array * (fm[M//2])\n",
    "    second_term = - xi_array * xi_array * F_m_hat\n",
    "    return exp(first_term + second_term)\n",
    "\n",
    "mex_symbol_minus = make_phi_minus_array(u_space)"
   ]
  },
  {
   "cell_type": "markdown",
   "metadata": {},
   "source": [
    "## Фи-плюс"
   ]
  },
  {
   "cell_type": "markdown",
   "metadata": {},
   "source": [
    "$\\phi^+_q(\\xi)$ будут иметь вид:\n",
    "\n",
    "$$ \\phi^+_q(\\xi) = exp[i\\xi F^+(0) - \\xi^2 \\hat{F}^+(\\xi)], $$\n",
    "$$ F^+(x) = 1_{(-\\infty, 0]}(x)(2\\pi)^{-1} \\int_{-\\infty + i\\omega_-}^{+\\infty + i\\omega_-} e^{ix\\eta} \\frac{ln(q+\\psi(\\eta))}{\\eta^2} d\\eta = $$\n",
    "$$ = 1_{(-\\infty, 0]}(x)(2\\pi)^{-1} \\int_{-\\infty}^{+\\infty} e^{ix(\\upsilon+i\\omega_-)} \\frac{ln(q+\\psi(\\upsilon+i\\omega_-))}{(\\upsilon+i\\omega_-)^2} d(\\upsilon) = $$ \n",
    "$$ = 1_{(-\\infty, 0]}(x)e^{-x\\omega_-}\\frac{1}{2\\pi} \\int_{-\\infty}^{+\\infty} e^{ix(\\upsilon)} \\frac{ln(q+\\psi(\\upsilon+i\\omega_-))}{(\\upsilon+i\\omega_-)^2} d(\\upsilon);$$\n",
    "$$ \\hat{F}^+(\\xi) = \\int_{-\\infty}^{+\\infty} e^{-ix\\xi} F^+(x) dx. $$"
   ]
  },
  {
   "cell_type": "markdown",
   "metadata": {},
   "source": [
    "$$ \\phi^+_q(\\xi) = exp[i\\xi F^+(0) - \\xi^2 \\hat{F}^+(\\xi)] $$"
   ]
  },
  {
   "cell_type": "code",
   "execution_count": 13,
   "metadata": {
    "collapsed": false
   },
   "outputs": [],
   "source": [
    "omega_minus = -1\n",
    "\n",
    "def integrand_plus(upsilon_array):\n",
    "    \"\"\"\n",
    "    принимает и возвращает массив длиной M,\n",
    "    работает (должна) на upsilon_space по умолчанию\n",
    "    тоже должна возвращать\n",
    "    \"\"\"\n",
    "    return np.array([log(q + psi(upsilon + 1j*omega_minus)) / (upsilon + 1j*omega_minus)**2 for upsilon in upsilon_array])\n",
    "\n",
    "def F_plus_capital():\n",
    "    indicator = np.where(x_space <= 0, 1, 0)\n",
    "    trimmed_x_space = indicator*x_space # чтобы при \"сильно положительных\" x не росла экспонента\n",
    "    integral = make_rad_ifft(integrand_plus(u_space), dx)\n",
    "    exponent = exp(-trimmed_x_space * omega_minus)\n",
    "    return indicator * exponent * integral \n",
    "\n",
    "fp = F_plus_capital()\n",
    "F_p_hat = make_rad_fft(fp, dx)\n",
    "\n",
    "def make_phi_plus_array(xi_array):\n",
    "    first_term = 1j *  xi_array * fp[M//2]\n",
    "    second_term = - xi_array * xi_array * F_p_hat\n",
    "    return exp(first_term + second_term)\n",
    "\n",
    "mex_symbol_plus = make_phi_plus_array(u_space)"
   ]
  },
  {
   "cell_type": "markdown",
   "metadata": {},
   "source": [
    "Теперь появляется возможность перейти к итеративной процедуре. В контексте модели Б-Ш она довольно проста.\n",
    "\n",
    "На входе каждого из шагов есть $ \\color{cyan}{f_n(y)} $\n",
    "\n",
    "\n",
    "$$ f_{n+1} =  \\color{green}{(q\\cdot\\Delta_t)^{-1}} \\color{blue}{\\mathcal{E}^-_q} \\mathcal{1}_{0,+\\infty}(y) \\color{orange}{\\mathcal{E}^+_q}\\color{cyan}{f_n(y)}.$$\n",
    "\n",
    "\n",
    "Принимая во внимание, что \n",
    "\n",
    "$$ \\mathcal{E}^\\pm_q (\\color{cyan}{f(y)}) = (2\\pi)^{-  1} \\int_{-\\infty}^{+\\infty} e^{iy\\xi} \\phi^\\pm_q (\\xi) \\color{magenta}{\\hat{f}(\\xi)} d\\xi,$$\n",
    "\n",
    "можно раскрыть выражение выше в виде (черту стоит понимать как преобразование Фурье):\n",
    "\n",
    "$$ f_{n+1} =  \\color{green}{(q\\cdot\\Delta_t)^{-1}} \n",
    "\\color{blue}{(2\\pi)^{-1} \\int_{-\\infty}^{+\\infty} e^{ix\\xi} \\phi^-_q (\\xi) (\n",
    "\\overline{\n",
    "\\color{black}{\\mathcal{1}_{0,+\\infty}(y)}\n",
    "\\color{orange}{(2\\pi)^{-1} \\int_{-\\infty}^{+\\infty} e^{ix\\xi} \\phi^+_q (\\xi) \\color{red}{\\hat{f}(\\xi)} d\\xi})}d\\xi}\n",
    "$$"
   ]
  },
  {
   "cell_type": "markdown",
   "metadata": {},
   "source": [
    "Перед тем, как продолжить, стоит сказать ещё несколько слов о том, как эта конструкция может выглядеть в виде алгоритма. Внешняя простота интегралов выше обманчива.\n",
    "\n",
    "Прямое преобразование Фурье мы определяем как:\n",
    "\n",
    "$$ \\color{magenta}{\\hat{f}(\\xi)} = \\int_{-\\infty}^{+\\infty} e^{-ix\\xi} \\color{cyan}{f(x)} dx $$\n",
    "\n",
    "Обратное преобразование Фурье - в виде\n",
    "\n",
    "$$ \\color{cyan}{f(x)} = (2\\pi)^{-1} \\int_{-\\infty}^{+\\infty} e^{ix\\xi} \\color{magenta}{\\hat{f}(\\xi)} dx $$\n",
    "\n",
    "Мы раньше записали операторы следующим образом: \n",
    "\n",
    "$$ \\mathcal{E}^\\pm_q (\\color{cyan}{f(x)}) = (2\\pi)^{-  1} \\int_{-\\infty}^{+\\infty} e^{ix\\xi} \\phi^\\pm_q (\\xi) \\color{magenta}{\\hat{f}(\\xi)} d\\xi$$\n",
    "\n",
    "Полностью же это можно записать так:\n",
    "\n",
    "$$ \\mathcal{E}^\\pm_q (\\color{cyan}{f(x)}) = (2\\pi)^{-  1} \\int_{-\\infty}^{+\\infty} e^{ix\\xi} \\phi^\\pm_q (\\xi) \\color{magenta}{(\\int_{-\\infty}^{+\\infty} e^{-ix\\xi} \\color{cyan}{f(x)} dx)} d\\xi,$$\n",
    "\n",
    "Далее, рассмотрим ближе конструкцию из итеративной процедуры:\n",
    "\n",
    "$$ f_{n+1} =  \\color{green}{(q\\cdot\\Delta_t)^{-1}} \\color{blue}{\\mathcal{E}^-_q} \\mathcal{1}_{0,+\\infty}(y) \\color{orange}{\\mathcal{E}^+_q}\\color{cyan}{f_n(y)}.$$\n",
    "\n",
    "$$ f_{n+1} =  \\color{green}{(q\\cdot\\Delta_t)^{-1}} \n",
    "\\color{blue}{(2\\pi)^{-1} \\int_{-\\infty}^{+\\infty} e^{ix\\xi} \\phi^-_q (\\xi) (\n",
    "\\overline\n",
    "{\n",
    "\\color{black}{\\mathcal{1}_{0,+\\infty}(y)}\n",
    "\\color{orange}{(2\\pi)^{-1}\n",
    "\\int_{-\\infty}^{+\\infty} e^{ix\\xi} \n",
    "\\phi^+_q (\\xi) \n",
    "\\color{magenta}{\\hat{f}(\\xi)} \n",
    "d\\xi})\n",
    "}\n",
    "d\\xi}\n",
    "$$\n",
    "\n",
    "Запишем внутренности $\\color{orange}{\\mathcal{E}^+_q}(\\color{cyan}{f(y)})$\n",
    "\n",
    "$$ f_{n+1} =  \\color{green}{(q\\cdot\\Delta_t)^{-1}} \n",
    "\\color{blue}{(2\\pi)^{-1} \\int_{-\\infty}^{+\\infty} e^{iy\\xi} \\phi^-_q (\\xi) (\n",
    "\\overline\n",
    "{\n",
    "\\color{black}{\\mathcal{1}_{0,+\\infty}(y)}\n",
    "\\color{orange}{\n",
    "(2\\pi)^{-1}\n",
    "\\int_{-\\infty}^{+\\infty} e^{iy\\xi} \n",
    "\\phi^+_q (\\xi) \n",
    "(\\color{magenta}{\\int_{-\\infty}^{+\\infty} e^{-iy\\xi} \\color{cyan}{f_n(y)} dy})\n",
    "d\\xi})\n",
    "}\n",
    "d\\xi}\n",
    "$$\n",
    "\n",
    "Нужно теперь отразить тот факт, что от выражения\n",
    "\n",
    "$$\n",
    "\\overline\n",
    "{\n",
    "\\color{black}{\\mathcal{1}_{0,+\\infty}(y)}\n",
    "\\color{orange}{\n",
    "(2\\pi)^{-1}\n",
    "\\int_{-\\infty}^{+\\infty} e^{iy\\xi} \n",
    "\\phi^+_q (\\xi) \n",
    "(\\color{magenta}{\\int_{-\\infty}^{+\\infty} e^{-iy\\xi} \\color{cyan}{f_n(y)} dy})\n",
    "d\\xi})\n",
    "}\n",
    "$$\n",
    "\n",
    "(которое и является функцией-аргументом для оператора $\\color{blue}{\\mathcal{E}^-_q}$) придётся взять преобразование Фурье.\n",
    "\n",
    "Получится вот что\n",
    "\n",
    "$$ f_{n+1} =  \\color{green}{(q\\cdot\\Delta_t)^{-1}} \n",
    "\\color{blue}{(2\\pi)^{-1} \\int_{-\\infty}^{+\\infty} e^{iy\\xi} \\phi^-_q (\\xi) (\n",
    "\\color{red}\n",
    "{\n",
    "\\int_{-\\infty}^{+\\infty} e^{-iy\\xi}(\n",
    "\\color{black}{\\mathcal{1}_{0,+\\infty}(y)}\n",
    "\\color{orange}{\n",
    "(2\\pi)^{-1}\n",
    "\\int_{-\\infty}^{+\\infty} e^{iy\\xi} \n",
    "\\phi^+_q (\\xi) \n",
    "(\\color{magenta}{\\int_{-\\infty}^{+\\infty} e^{-iy\\xi} \\color{cyan}{f_n(y)} dy})\n",
    "d\\xi})\n",
    "dy\n",
    "}\n",
    ")d\\xi}\n",
    "$$"
   ]
  },
  {
   "cell_type": "markdown",
   "metadata": {},
   "source": [
    "Вычисление придётся проводить в средующем порядке.\n",
    "\n",
    "0. Подготовить массив значений функции $\\color{cyan}{f_n(y)}$\n",
    "1. <span style=\"color:magenta\">Вычислить от него преобразование Фурье</span>\n",
    "2. Результат будет определён в точках $\\xi$. В тех же точках нужно определить $\\color{orange}{\\phi^+_q (\\xi)}$, после чего выполнить поэлементное умножение массивов.\n",
    "3. <span style=\"color:orange\">От того, что получилось - вычислить обратное преобразование Фурье</span>\n",
    "4. Теперь результат будет определён в точках $y$ снова. В этих же точках нужно определить индикатор, в виде массива, после чего выполнить поэлементное умножение результата шага 3 на массив-индикатор\n",
    "5. <span style=\"color:red\">От того, что получилось - вычислить прямое преобразование Фурье</span>\n",
    "6. Результат будет определён в точках $\\xi$. В тех же точках нужно определить $\\color{blue}{\\phi^-_q (\\xi)}$, после чего выполнить поэлементное умножение массивов.\n",
    "7. <span style=\"color:blue\">От того, что получилось - вычислить обратное преобразование Фурье</span>\n",
    "8. <span style=\"color:green\">Полученный результат умножить на константу.</span>\n",
    "9. Результат, который мы получили, нужно положить в массив, который называется $\\color{cyan}{f_{n+1}(y)}$\n",
    "\n",
    "Все шаги повторить до тех пор, пока $n\\ne N$. Найдя $\\color{cyan}{f_{N}(y)}$ нужно провести интерполяцию и получить необходимые ответы."
   ]
  },
  {
   "cell_type": "code",
   "execution_count": 14,
   "metadata": {
    "collapsed": false
   },
   "outputs": [
    {
     "data": {
      "image/png": "[encoded data removed]",
      "text/plain": [
       "<matplotlib.figure.Figure at 0x7f7968b2c208>"
      ]
     },
     "metadata": {},
     "output_type": "display_data"
    },
    {
     "data": {
      "image/png": "[encoded data removed]",
      "text/plain": [
       "<matplotlib.figure.Figure at 0x7f796ab410b8>"
      ]
     },
     "metadata": {},
     "output_type": "display_data"
    }
   ],
   "source": [
    "phi_minus_array = make_phi_minus_array(u_space)\n",
    "phi_plus_array = make_phi_plus_array(u_space)\n",
    "\n",
    "#to cut the strange effects on high prices out\n",
    "trimmer = np.where(original_prices_array < 2.5*K_original, 1.0, 0.0)\n",
    "\n",
    "#indicator-function, for the y-domain\n",
    "indicator = np.where(y_space > 0, 1.0, 0.0)\n",
    "\n",
    "# main cycle (iterating over time)\n",
    "f_n = array(f_N)\n",
    "\n",
    "for i in range(N):\n",
    "   f_n_plus_1 = factor * make_rad_ifft(phi_minus_array *\n",
    "       make_rad_fft(indicator * \n",
    "               make_rad_ifft(phi_plus_array * make_rad_fft(f_n, dx), dx), dx), dx)\n",
    "   f_n = f_n_plus_1 #* trimmer\n",
    "\n",
    "plt.plot(original_prices_array[(original_prices_array > 0) & (original_prices_array < 300)], \n",
    "         f_n_plus_1.real[(original_prices_array > 0) & (original_prices_array < 300)], 'g')\n",
    "plt.xlabel('stock price', color = 'y')\n",
    "plt.ylabel('option price, real part')\n",
    "filename_real_pic = \"out_bsmex_l_re N %2d L %.1f M %2d.png\"  % (N, L, M)\n",
    "plt.savefig(\"out_pictures/\" + filename_real_pic)\n",
    "plt.show()\n",
    "\n",
    "plt.plot(original_prices_array[(original_prices_array > 0) & (original_prices_array < 300)], \n",
    "         f_n_plus_1.imag[(original_prices_array > 0) & (original_prices_array < 300)], 'r')\n",
    "plt.xlabel('stock price', color = 'y')\n",
    "plt.ylabel('option price, imag part')\n",
    "filename_imag_pic = \"out_bsmex_l_im N %2d L %.1f M %2d.png\"  % (N, L, M)\n",
    "plt.savefig(\"out_pictures/\" + filename_imag_pic)\n",
    "plt.show()"
   ]
  },
  {
   "cell_type": "code",
   "execution_count": 15,
   "metadata": {
    "collapsed": false
   },
   "outputs": [
    {
     "name": "stdout",
     "output_type": "stream",
     "text": [
      "32517\n",
      "34127\n"
     ]
    },
    {
     "data": {
      "image/png": "[encoded data removed]",
      "text/plain": [
       "<matplotlib.figure.Figure at 0x7f7968b3e898>"
      ]
     },
     "metadata": {},
     "output_type": "display_data"
    },
    {
     "data": {
      "image/png": "[encoded data removed]",
      "text/plain": [
       "<matplotlib.figure.Figure at 0x7f7968c45f98>"
      ]
     },
     "metadata": {},
     "output_type": "display_data"
    }
   ],
   "source": [
    "index_bot = 0\n",
    "while(original_prices_array[index_bot] < H_original-20):\n",
    "    index_bot+=1\n",
    "print(index_bot)\n",
    "\n",
    "index_top = 0\n",
    "while(original_prices_array[index_top] < 350):\n",
    "    index_top+=1\n",
    "print(index_top)\n",
    "\n",
    "plt.plot(original_prices_array[index_bot:index_top], f_n_plus_1.real[index_bot:index_top], 'g')\n",
    "plt.xlabel('stock price', color = 'y')\n",
    "plt.ylabel('option price, real part')\n",
    "filename_real_pic = \"out_bsmex_s_re N %2d L %.1f M %2d.png\"  % (N, L, M)\n",
    "plt.savefig(\"out_pictures/\" + filename_real_pic)\n",
    "plt.show()\n",
    "\n",
    "plt.plot(original_prices_array[index_bot:index_top], f_n_plus_1.imag[index_bot:index_top], 'r')\n",
    "plt.xlabel('stock price', color = 'y')\n",
    "plt.ylabel('option price, imag part')\n",
    "filename_imag_pic = \"out_bsmex_s_im N %2d L %.1f M %2d.png\"  % (N, L, M)\n",
    "plt.savefig(\"out_pictures/\" + filename_imag_pic)\n",
    "plt.savefig(\"out.png\")\n",
    "plt.show()"
   ]
  },
  {
   "cell_type": "code",
   "execution_count": null,
   "metadata": {
    "collapsed": false
   },
   "outputs": [],
   "source": []
  }
 ],
 "metadata": {
  "anaconda-cloud": {},
  "kernelspec": {
   "display_name": "Python [conda root]",
   "language": "python",
   "name": "conda-root-py"
  },
  "language_info": {
   "codemirror_mode": {
    "name": "ipython",
    "version": 3
   },
   "file_extension": ".py",
   "mimetype": "text/x-python",
   "name": "python",
   "nbconvert_exporter": "python",
   "pygments_lexer": "ipython3",
   "version": "3.5.2"
  }
 },
 "nbformat": 4,
 "nbformat_minor": 1
}
