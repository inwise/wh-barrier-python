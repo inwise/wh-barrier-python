{
 "cells": [
  {
   "cell_type": "markdown",
   "metadata": {},
   "source": [
    "### Попробуем здесь адаптировать новые формулы факторизации для модели Б-Ш, чтобы сравнить их впоследствии с имеющимися."
   ]
  },
  {
   "cell_type": "code",
   "execution_count": 131,
   "metadata": {
    "collapsed": true
   },
   "outputs": [],
   "source": [
    "import numpy as np\n",
    "from numpy import log, sqrt\n",
    "from numpy import exp, linspace, fft, array, arange, pi\n",
    "import matplotlib.pyplot as plt\n",
    "i = 1j"
   ]
  },
  {
   "cell_type": "markdown",
   "metadata": {},
   "source": [
    "Параметры контракта down-and-out put"
   ]
  },
  {
   "cell_type": "code",
   "execution_count": 132,
   "metadata": {
    "collapsed": true
   },
   "outputs": [],
   "source": [
    "# model parameters - we are going to evaluate a barrier put\n",
    "T = 1\n",
    "H_original = 90.0 # limit\n",
    "K_original = 100.0 # strike\n",
    "r_premia = 10 # annual interest rate\n",
    "r = log(r_premia/100 + 1)\n",
    "V0 = 0.316227766\n"
   ]
  },
  {
   "cell_type": "code",
   "execution_count": 133,
   "metadata": {
    "collapsed": true
   },
   "outputs": [],
   "source": [
    "# Определим функцию выплат:\n",
    "def G(y, barrier, strike):\n",
    "    \"\"\"payoff_function for a given option type (down-and-out put there)\"\"\"\n",
    "    if (barrier <= y) and (y <= strike):\n",
    "        return K_original - H_original*exp(y)\n",
    "    else:\n",
    "        return 0"
   ]
  },
  {
   "cell_type": "code",
   "execution_count": 134,
   "metadata": {
    "collapsed": true
   },
   "outputs": [],
   "source": [
    "# И функцию-индикатор:\n",
    "\n",
    "def indicator(a, barrier):\n",
    "    \"\"\"the indicator influences the function argument, not value.\n",
    "    So here it iterates through x-domain and cuts any\n",
    "    values of function with an argument less than H\"\"\"\n",
    "    indicated_array = []\n",
    "    for index in range(len(y_space)):\n",
    "        if y_space[index] > barrier:\n",
    "            indicated_array.append(a[index])\n",
    "        else:\n",
    "            indicated_array.append(0)\n",
    "    return indicated_array "
   ]
  },
  {
   "cell_type": "markdown",
   "metadata": {},
   "source": [
    "Характеристическая экспонента процесса Б-Ш\n",
    "$$\\psi(\\xi) = \\frac{{\\color{green}{\\sigma}}^2}{2} \\xi^2 - i{\\color{green}{\\gamma}}\\xi$$"
   ]
  },
  {
   "cell_type": "code",
   "execution_count": 135,
   "metadata": {
    "collapsed": true
   },
   "outputs": [],
   "source": [
    "sigma = V0\n",
    "gamma = r - 0.5 * sigma**2 # Black-Scholes parameter, from a no-arbitrage condition\n",
    "\n",
    "def psi(xi):\n",
    "    return (sigma**2/2) * xi * xi - i*gamma*xi"
   ]
  },
  {
   "cell_type": "markdown",
   "metadata": {},
   "source": [
    "Подготавливаем дискретизацию, задаём шкалу по переменной, связанной с ценой, производим замены\n",
    "$$ y = ln(S)$$\n",
    "$$ K = ln(K), H = ln(H) $$\n",
    "\n",
    "Укладываем $M$ точек между $L \\cdot ln(1/2)$  и $ L \\cdot ln(2) $"
   ]
  },
  {
   "cell_type": "code",
   "execution_count": 136,
   "metadata": {
    "collapsed": false
   },
   "outputs": [],
   "source": [
    "# constants in log scale for price, by Zanette\n",
    "M = 2**10  # number of points in price grid\n",
    "L = 1  # scaling coefficient\n",
    "y_min = L * log(0.5)\n",
    "y_max = L * log(2.0)\n",
    "d = (y_max - y_min) / M  # discretization step\n",
    "K = log(K_original/H_original)\n",
    "H = log(H_original/H_original)\n",
    "y_space = []  # prices array\n",
    "for p_elem_index in range(M):\n",
    "    y_space.append(y_min + p_elem_index * d)"
   ]
  },
  {
   "cell_type": "markdown",
   "metadata": {},
   "source": [
    "Теперь дисктеретизация по времени:"
   ]
  },
  {
   "cell_type": "code",
   "execution_count": 137,
   "metadata": {
    "collapsed": false
   },
   "outputs": [],
   "source": [
    "original_prices_array = H_original * exp(y_space)\n",
    "# time discretization\n",
    "N = 100  # number_of_time_steps\n",
    "delta_t = T/N"
   ]
  },
  {
   "cell_type": "markdown",
   "metadata": {},
   "source": [
    "Величины, связанные с факторизацией. В этой модели всё просто - при постоянной вариации нет необходимости учитывать эффекты решётки волатильности.\n",
    "\n",
    "Действие, которое мы хотим произвести на каждом шаге по времени, выглядит так:\n",
    "$$f_n(y) = ({\\color{green}{q\\Delta t}}) ^{-1} \\mathcal{E}_{\\color{green}{q}}^- 1_{y>ln(H)} \\mathcal{E}_{\\color{green}{q}}^+ f_{n+1}(y)$$\n",
    "\n",
    "Получить хотим $f_0(y)$, там для каждого y и ответ лежит\n",
    "\n",
    "Зелёные - константы. Определим их."
   ]
  },
  {
   "cell_type": "code",
   "execution_count": 138,
   "metadata": {
    "collapsed": false
   },
   "outputs": [],
   "source": [
    "q = 1.0/delta_t + r\n",
    "factor = (q*delta_t)**(-1)\n",
    "\n",
    "# Зададим начальные уловия\n",
    "f_N = array([G(y_element, H, K) for y_element in y_space]) # = g(x) i.e. payoff func"
   ]
  },
  {
   "cell_type": "code",
   "execution_count": 139,
   "metadata": {
    "collapsed": false
   },
   "outputs": [
    {
     "name": "stdout",
     "output_type": "stream",
     "text": [
      "1024\n",
      "[ 0.  0.  0.  0.  0.  0.  0.  0.  0.  0.  0.  0.  0.  0.  0.  0.  0.  0.\n",
      "  0.  0.  0.  0.  0.  0.]\n"
     ]
    }
   ],
   "source": [
    "print(M)\n",
    "print(f_N[1000:1200])"
   ]
  },
  {
   "cell_type": "markdown",
   "metadata": {},
   "source": [
    "В уравнении выше есть нигде пока не определённные функции (на самом деле, операторы)\n",
    "$$ \\mathcal{E}^\\pm_q f(x) = (2\\pi)^{-1} \\int_{-\\infty}^{+\\infty} e^{ix\\xi} \\phi^\\pm_q (\\xi) \\hat{f}(\\xi) d\\xi $$\n",
    "\n",
    "\n",
    "А в них - пока не определённые $\\phi_q^\\pm$"
   ]
  },
  {
   "cell_type": "markdown",
   "metadata": {},
   "source": [
    "## Фи-минус"
   ]
  },
  {
   "cell_type": "markdown",
   "metadata": {},
   "source": [
    "$\\phi^-_q(\\xi)$ будут иметь вид:\n",
    "\n",
    "$$ \\phi^-_q(\\xi) = exp[-i\\xi F^-(0) - \\xi^2 \\hat{F}^-(\\xi)] $$\n",
    "\n",
    "$$ F^-(x) = 1_{[0,+\\infty)}(x)(2\\pi)^{-1} \\int_{-\\infty + i\\omega_+}^{+\\infty + i\\omega_+} e^{ix\\eta} \\frac{ln(q+\\psi(\\eta))}{\\eta^2} d\\eta =$$\n",
    "$$= 1_{[0,+\\infty)}(x)(2\\pi)^{-1} \\int_{-\\infty}^{+\\infty} e^{ix(\\upsilon+i\\omega_+)} \\frac{ln(q+\\psi(\\upsilon+i\\omega_+))}{(\\upsilon+i\\omega_+)^2} d(\\upsilon) =  $$\n",
    "$$= 1_{[0,+\\infty)}(x)e^{-x\\omega_+}\\frac{1}{2\\pi} \\int_{-\\infty}^{+\\infty} e^{ix(\\upsilon)} \\frac{ln(q+\\psi(\\upsilon+i\\omega_+))}{(\\upsilon+i\\omega_+)^2} d(\\upsilon) $$\n",
    "$$ \\hat{F}^-(\\xi) = \\int_{-\\infty}^{+\\infty} e^{-ix\\xi} F^-(x) dx $$"
   ]
  },
  {
   "cell_type": "code",
   "execution_count": 140,
   "metadata": {
    "collapsed": false
   },
   "outputs": [],
   "source": [
    "# преобразование Фурье должно допускать вычисление интеграла по \\xi\n",
    "# но поскольку мы имеем дело с ПДО, нужно ещё знать, с какими именно\n",
    "xi_space = fft.fftfreq(M, d=d)\n",
    "upsilon_space = fft.fftfreq(M, d=d)\n",
    "\n",
    "omega_plus = 1\n",
    "\n",
    "# Теперь надо поколдовать с функцией F(x). Кодировать её для каждого отдельного значения x можно, \n",
    "# но для этого придётся использовать медленные методы вычисления интегралов.\n",
    "# Поэтому она должна принимать  массив длиной M и обрабатывать его."
   ]
  },
  {
   "cell_type": "markdown",
   "metadata": {},
   "source": [
    "Вычислим значение подынтегральной части сразу в виде массива: $$intfunc(\\upsilon) = \\frac{ln(q+\\psi(\\upsilon+i\\omega_+))}{(\\upsilon+i\\omega_+)^2}, \\upsilon \\in \\upsilon\\_space$$"
   ]
  },
  {
   "cell_type": "code",
   "execution_count": 141,
   "metadata": {
    "collapsed": false
   },
   "outputs": [],
   "source": [
    "def integrand_minus(upsilon_array):\n",
    "    \"\"\"\n",
    "    принимает и возвращает массив длиной M,\n",
    "    работает (должна) на upsilon_space по умолчанию\n",
    "    тоже должна возвращать\n",
    "    \"\"\"\n",
    "    return [log(q + psi(upsilon + 1j*omega_plus)) / (upsilon + 1j*omega_plus)**2 for upsilon in upsilon_array]"
   ]
  },
  {
   "cell_type": "markdown",
   "metadata": {},
   "source": [
    "Теперь реализуем кусок в виде fft:\n",
    "$$F^-(x) = 1_{[0,+\\infty)}(x)e^{-x\\omega_+}\\color{red}{\\frac{1}{2\\pi} \\int_{-\\infty}^{+\\infty} e^{ix(\\upsilon)} intfunc(\\upsilon) d(\\upsilon)} $$"
   ]
  },
  {
   "cell_type": "code",
   "execution_count": 142,
   "metadata": {
    "collapsed": false
   },
   "outputs": [],
   "source": [
    "# factor functions\n",
    "def F_minus_capital(x_array):\n",
    "    big_integral = fft.ifft(integrand_minus(upsilon_space))\n",
    "    osc_exponent = [exp(-1*x_elem*omega_plus) for x_elem in x_array]\n",
    "    weighted_big_integral = np.array(osc_exponent) * np.array(big_integral)\n",
    "    indicator_array = np.where(np.array(x_array) >= 0, 1,0)\n",
    "    return indicator_array * weighted_big_integral\n",
    "# print(F_capital(y_space))"
   ]
  },
  {
   "cell_type": "markdown",
   "metadata": {},
   "source": [
    "Теперь нас интересует $$ \\hat{F}^-(\\xi) = \\int_{-\\infty}^{+\\infty} e^{-ix\\xi} F^-(x) dx $$"
   ]
  },
  {
   "cell_type": "code",
   "execution_count": 143,
   "metadata": {
    "collapsed": false
   },
   "outputs": [],
   "source": [
    "def F_minus_capital_hat(xi_array):\n",
    "    return fft.fft(F_minus_capital(y_space))"
   ]
  },
  {
   "cell_type": "markdown",
   "metadata": {},
   "source": [
    "Наконец, у нас достаточно функций, чтобы закодировать \n",
    "$$ \\phi^-_q(\\xi) = exp[-i\\xi F^-(0) - \\xi^2 \\hat{F}^-(\\xi)] $$\n",
    "\n",
    "Но прежде стоит заметить, что нам удобнее, из практических соображений, вычислять \\phi^-_q(\\xi) сразу в виде массива. Тогда нам нужно некоторым специальным образом обработать часть $ -i\\xi F^-(0)$\n",
    "\n",
    "Здесь пока можно воспользоваться тем хаком, что 0 лежит точно в середине y_array. Если это и будет всегда единственным аргументом для $F$, то такой подход и дальше сработает"
   ]
  },
  {
   "cell_type": "code",
   "execution_count": 144,
   "metadata": {
    "collapsed": false
   },
   "outputs": [],
   "source": [
    "def make_phi_minus_array(xi_array):\n",
    "    first_term = -1j * F_minus_capital(y_space)[M/2] * np.array(xi_array)\n",
    "    second_term = - np.array(xi_array) * np.array(xi_array) * F_minus_capital_hat(xi_array)\n",
    "    return exp(first_term + second_term)\n",
    "\n",
    "# phi_minus_array(xi_space)"
   ]
  },
  {
   "cell_type": "markdown",
   "metadata": {},
   "source": [
    "## Фи-плюс"
   ]
  },
  {
   "cell_type": "markdown",
   "metadata": {},
   "source": [
    "$\\phi^+_q(\\xi)$ будут иметь вид:\n",
    "\n",
    "$$ \\phi^+_q(\\xi) = exp[i\\xi F^+(0) - \\xi^2 \\hat{F}^+(\\xi)], $$\n",
    "$$ F^+(x) = 1_{(-\\infty, 0]}(x)(2\\pi)^{-1} \\int_{-\\infty + i\\omega_-}^{+\\infty + i\\omega_-} e^{ix\\eta} \\frac{ln(q+\\psi(\\eta))}{\\eta^2} d\\eta = $$\n",
    "$$ = 1_{(-\\infty, 0]}(x)(2\\pi)^{-1} \\int_{-\\infty}^{+\\infty} e^{ix(\\upsilon+i\\omega_-)} \\frac{ln(q+\\psi(\\upsilon+i\\omega_-))}{(\\upsilon+i\\omega_-)^2} d(\\upsilon) = $$ \n",
    "$$ = 1_{(-\\infty, 0]}(x)e^{-x\\omega_-}\\frac{1}{2\\pi} \\int_{-\\infty}^{+\\infty} e^{ix(\\upsilon)} \\frac{ln(q+\\psi(\\upsilon+i\\omega_-))}{(\\upsilon+i\\omega_-)^2} d(\\upsilon);$$\n",
    "$$ \\hat{F}^+(\\xi) = \\int_{-\\infty}^{+\\infty} e^{-ix\\xi} F^+(x) dx. $$"
   ]
  },
  {
   "cell_type": "code",
   "execution_count": 145,
   "metadata": {
    "collapsed": false
   },
   "outputs": [],
   "source": [
    "# преобразование Фурье должно допускать вычисление интеграла c \\xi\n",
    "# но поскольку мы имеем дело с ПДО, нужно ещё знать, с какими именно\n",
    "xi_space = fft.fftfreq(M, d=d)\n",
    "upsilon_space = fft.fftfreq(M, d=d)\n",
    "\n",
    "omega_minus = -1\n",
    "\n",
    "# Теперь надо поколдовать с функцией F(x). Кодировать её для каждого отдельного значения x можно, \n",
    "# но для этого придётся использовать медленные методы вычисления интегралов.\n",
    "# Поэтому она должна принимать  массив длиной M и обрабатывать его."
   ]
  },
  {
   "cell_type": "markdown",
   "metadata": {},
   "source": [
    "Вычислим значение подынтегральной части сразу в виде массива: $$intfunc(\\upsilon) = \\frac{ln(q+\\psi(\\upsilon+i\\omega_-))}{(\\upsilon+i\\omega_-)^2}, \\upsilon \\in \\upsilon\\_space$$"
   ]
  },
  {
   "cell_type": "code",
   "execution_count": 146,
   "metadata": {
    "collapsed": false
   },
   "outputs": [],
   "source": [
    "def integrand_plus(upsilon_array):\n",
    "    \"\"\"\n",
    "    принимает и возвращает массив длиной M,\n",
    "    работает (должна) на upsilon_space по умолчанию\n",
    "    тоже должна возвращать\n",
    "    \"\"\"\n",
    "    return [log(q + psi(upsilon + 1j*omega_minus)) / (upsilon + 1j*omega_minus)**2 for upsilon in upsilon_array]"
   ]
  },
  {
   "cell_type": "markdown",
   "metadata": {},
   "source": [
    "Теперь реализуем кусок в виде fft:\n",
    "$$1_{(-\\infty, 0]}(x)e^{-x\\omega_-}\\color{red}{\\frac{1}{2\\pi} \\int_{-\\infty}^{+\\infty} e^{ix(\\upsilon)} intfunc(\\upsilon) d(\\upsilon)} $$"
   ]
  },
  {
   "cell_type": "code",
   "execution_count": 147,
   "metadata": {
    "collapsed": false
   },
   "outputs": [],
   "source": [
    "# factor functions\n",
    "def F_plus_capital(x_array):\n",
    "    big_integral = fft.ifft(integrand_plus(upsilon_space))\n",
    "    osc_exponent = [exp(-1 * x_elem * omega_minus) for x_elem in x_array] \n",
    "    weighted_big_integral = np.array(osc_exponent) * np.array(big_integral)\n",
    "    indicator_array = np.where(np.array(x_array) <= 0, 1,0)\n",
    "    return indicator_array * weighted_big_integral\n",
    "# print(F_capital(y_space))"
   ]
  },
  {
   "cell_type": "markdown",
   "metadata": {},
   "source": [
    "Теперь нас интересует $$ \\hat{F}^+(\\xi) = \\int_{-\\infty}^{+\\infty} e^{-ix\\xi} F^+(x) dx $$"
   ]
  },
  {
   "cell_type": "code",
   "execution_count": 148,
   "metadata": {
    "collapsed": false
   },
   "outputs": [],
   "source": [
    "def F_plus_capital_hat(xi_array):\n",
    "    return fft.fft(F_plus_capital(y_space))"
   ]
  },
  {
   "cell_type": "markdown",
   "metadata": {},
   "source": [
    "Наконец, у нас достаточно функций, чтобы закодировать \n",
    "$$ \\phi^+_q(\\xi) = exp[i\\xi F^+(0) - \\xi^2 \\hat{F}^+(\\xi)] $$\n",
    "\n",
    "Но прежде стоит заметить, что нам удобнее, из практических соображений, вычислять $\\phi^+_q(\\xi)$ сразу в виде массива. Тогда нам нужно некоторым специальным образом обработать часть $ -i\\xi F^+(0)$\n",
    "\n",
    "Здесь пока можно воспользоваться тем хаком, что 0 лежит точно в середине y_array. Если это и будет всегда единственным аргументом для $F$, то такой подход и дальше сработает"
   ]
  },
  {
   "cell_type": "code",
   "execution_count": 149,
   "metadata": {
    "collapsed": false
   },
   "outputs": [],
   "source": [
    "def make_phi_plus_array(xi_array):\n",
    "    first_term = 1j * F_plus_capital(y_space)[M/2] * np.array(xi_array)\n",
    "    second_term = - np.array(xi_array) * np.array(xi_array) * F_plus_capital_hat(xi_array)\n",
    "    return exp(first_term + second_term)\n",
    "\n",
    "# phi_minus_array(xi_space)"
   ]
  },
  {
   "cell_type": "code",
   "execution_count": 150,
   "metadata": {
    "collapsed": false
   },
   "outputs": [
    {
     "name": "stderr",
     "output_type": "stream",
     "text": [
      "C:\\Users\\angle\\Anaconda3\\lib\\site-packages\\ipykernel\\__main__.py:2: VisibleDeprecationWarning: using a non-integer number instead of an integer will result in an error in the future\n",
      "  from ipykernel import kernelapp as app\n",
      "C:\\Users\\angle\\Anaconda3\\lib\\site-packages\\ipykernel\\__main__.py:9: RuntimeWarning: overflow encountered in multiply\n",
      "C:\\Users\\angle\\Anaconda3\\lib\\site-packages\\ipykernel\\__main__.py:9: RuntimeWarning: invalid value encountered in multiply\n",
      "C:\\Users\\angle\\Anaconda3\\lib\\site-packages\\numpy\\fft\\fftpack.py:284: RuntimeWarning: invalid value encountered in multiply\n",
      "  return output * (1 / (sqrt(n) if unitary else n))\n",
      "C:\\Users\\angle\\Anaconda3\\lib\\site-packages\\numpy\\core\\numeric.py:482: ComplexWarning: Casting complex values to real discards the imaginary part\n",
      "  return array(a, dtype, copy=False, order=order)\n"
     ]
    },
    {
     "data": {
      "image/png": "[encoded data removed]",
      "text/plain": [
       "<matplotlib.figure.Figure at 0x2648098f6a0>"
      ]
     },
     "metadata": {},
     "output_type": "display_data"
    }
   ],
   "source": [
    "phi_minus_array = make_phi_minus_array(xi_space)\n",
    "phi_plus_array = make_phi_plus_array(xi_space)\n",
    "\n",
    "# main cycle (iterating over time)\n",
    "f_n = array(f_N)\n",
    "#plt.plot(original_prices_array, f_n)\n",
    "for i in range(N):\n",
    "   f_n_plus_1 = factor * fft.ifft(phi_minus_array *\n",
    "       fft.fft(indicator(fft.ifft(phi_plus_array * fft.fft(f_n)), H)))\n",
    "   f_n = f_n_plus_1\n",
    "\n",
    "plt.plot(original_prices_array, f_n_plus_1)\n",
    "\n",
    "plt.savefig(\"out.png\")\n",
    "plt.show()"
   ]
  },
  {
   "cell_type": "code",
   "execution_count": null,
   "metadata": {
    "collapsed": true
   },
   "outputs": [],
   "source": []
  }
 ],
 "metadata": {
  "anaconda-cloud": {},
  "kernelspec": {
   "display_name": "Python [conda root]",
   "language": "python",
   "name": "conda-root-py"
  },
  "language_info": {
   "codemirror_mode": {
    "name": "ipython",
    "version": 3
   },
   "file_extension": ".py",
   "mimetype": "text/x-python",
   "name": "python",
   "nbconvert_exporter": "python",
   "pygments_lexer": "ipython3",
   "version": "3.5.2"
  }
 },
 "nbformat": 4,
 "nbformat_minor": 1
}
