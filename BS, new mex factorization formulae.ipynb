{
 "cells": [
  {
   "cell_type": "markdown",
   "metadata": {},
   "source": [
    "### Попробуем здесь адаптировать новые формулы факторизации для модели Б-Ш, чтобы сравнить их впоследствии с имеющимися."
   ]
  },
  {
   "cell_type": "code",
   "execution_count": 11,
   "metadata": {
    "collapsed": true
   },
   "outputs": [],
   "source": [
    "from numpy import log, sqrt\n",
    "from numpy import exp, linspace, fft, array, arange, pi\n",
    "import matplotlib.pyplot as plt\n",
    "i = complex(0, 1)"
   ]
  },
  {
   "cell_type": "markdown",
   "metadata": {},
   "source": [
    "Параметры контракта down-and-out put"
   ]
  },
  {
   "cell_type": "code",
   "execution_count": 12,
   "metadata": {
    "collapsed": true
   },
   "outputs": [],
   "source": [
    "# model parameters - we are going to evaluate a barrier put\n",
    "T = 1\n",
    "H_original = 90.0 # limit\n",
    "K_original = 100.0 # strike\n",
    "r_premia = 10 # annual interest rate\n",
    "r = log(r_premia/100 + 1)\n",
    "V0 = 0.316227766\n"
   ]
  },
  {
   "cell_type": "code",
   "execution_count": 18,
   "metadata": {
    "collapsed": true
   },
   "outputs": [],
   "source": [
    "# Определим функцию выплат:\n",
    "def G(x, barrier, strike):\n",
    "    \"\"\"payoff_function for a given option type (down-and-out put there)\"\"\"\n",
    "    if (barrier <= x) and (x <= strike):\n",
    "        return K_original - H_original*exp(x)\n",
    "    else:\n",
    "        return 0"
   ]
  },
  {
   "cell_type": "code",
   "execution_count": null,
   "metadata": {
    "collapsed": true
   },
   "outputs": [],
   "source": [
    "# И функцию-индикатор:\n",
    "\n",
    "def indicator(a, barrier):\n",
    "    \"\"\"the indicator influences the function argument, not value.\n",
    "    So here it iterates through x-domain and cuts any\n",
    "    values of function with an argument less than H\"\"\"\n",
    "    indicated_array = []\n",
    "    for index in range(len(x_space)):\n",
    "        if x_space[index] > barrier:\n",
    "            indicated.append(a[index])\n",
    "        else:\n",
    "            indicated.append(0)\n",
    "    return indicated_array "
   ]
  },
  {
   "cell_type": "markdown",
   "metadata": {},
   "source": [
    "Характеристическая экспонента процесса Б-Ш\n",
    "$$\\psi(\\xi) = \\frac{{\\color{green}{\\sigma}}^2}{2} \\xi^2 - i{\\color{green}{\\gamma}}\\xi$$"
   ]
  },
  {
   "cell_type": "code",
   "execution_count": 21,
   "metadata": {
    "collapsed": true
   },
   "outputs": [],
   "source": [
    "sigma = V0\n",
    "gamma = r - 0.5 * sigma**2 # Black-Scholes parameter, from a no-arbitrage condition\n",
    "\n",
    "def psi(xi):\n",
    "    return (sigma^2/2) * xi^2 - i*gamma*xi"
   ]
  },
  {
   "cell_type": "markdown",
   "metadata": {},
   "source": [
    "Подготавливаем дискретизацию, задаём шкалу по переменной, связанной с ценой, производим замены\n",
    "$$ y = ln(S)$$\n",
    "$$ K = ln(K), H = ln(H) $$\n",
    "\n",
    "Укладываем $M$ точек между $L \\cdot ln(1/2)$  и $ L \\cdot ln(2) $"
   ]
  },
  {
   "cell_type": "code",
   "execution_count": 14,
   "metadata": {
    "collapsed": true
   },
   "outputs": [],
   "source": [
    "# constants in log scale for price, by Zanette\n",
    "M = 2**12  # number of points in price grid\n",
    "L = 2  # scaling coefficient\n",
    "y_min = L * log(0.5)\n",
    "y_max = L * log(2.0)\n",
    "d = (y_max - y_min) / M  # discretization step\n",
    "K = log(K_original/H_original)\n",
    "H = log(H_original/H_original)\n",
    "y_space = []  # prices array\n",
    "for p_elem_index in range(M):\n",
    "    y_space.append(y_min + p_elem_index * d)"
   ]
  },
  {
   "cell_type": "markdown",
   "metadata": {},
   "source": [
    "Теперь дисктеретизация по времени:"
   ]
  },
  {
   "cell_type": "code",
   "execution_count": 15,
   "metadata": {
    "collapsed": false
   },
   "outputs": [],
   "source": [
    "original_prices_array = H_original * exp(y_space)\n",
    "# time discretization\n",
    "N = 50  # number_of_time_steps\n",
    "delta_t = T/N"
   ]
  },
  {
   "cell_type": "markdown",
   "metadata": {},
   "source": [
    "Величины, связанные с факторизацией. В этой модели всё просто - при постоянной вариации нет необходимости учитывать эффекты решётки волатильности.\n",
    "\n",
    "Действие, которое мы хотим произвести на каждом шаге по времени, выглядит так:\n",
    "$$f_n(y) = ({\\color{green}{q\\Delta t}}) ^{-1} \\mathcal{E}_{\\color{green}{q}}^- 1_{y>ln(H)} \\mathcal{E}_{\\color{green}{q}}^+ f_{n+1}(y)$$\n",
    "\n",
    "Получить хотим $f_0(y)$, там для каждого y и ответ лежит\n",
    "\n",
    "Зелёные - константы. Определим их."
   ]
  },
  {
   "cell_type": "code",
   "execution_count": 16,
   "metadata": {
    "collapsed": true
   },
   "outputs": [],
   "source": [
    "q = 1.0/delta_t + r\n",
    "factor = (q*delta_t)**(-1)\n",
    "\n",
    "# Зададим начальные уловия\n",
    "f_N = array([G(y_element, H, K) for y_element in y_space]) # = g(x) i.e. payoff func"
   ]
  },
  {
   "cell_type": "markdown",
   "metadata": {},
   "source": [
    "В уравнении выше есть нигде пока не определённные функции (на самом деле, операторы)\n",
    "$$ \\mathcal{E}^\\pm_q f(x) = (2\\pi)^{-1} \\int_{-\\infty}^{+\\infty} e^{ix\\xi} \\phi^\\pm_q (\\xi) \\hat{f}(\\xi) d\\xi $$\n",
    "\n",
    "А в них - пока не определённые $\\phi_q^\\pm$\n",
    "\n",
    "$\\phi^-_q(\\xi)$ будут иметь вид:\n",
    "\n",
    "$$ \\phi^-_q(\\xi) = exp[-i\\xi F^-(0) - \\xi^2 \\hat{F}^-(\\xi)] $$\n",
    "$$ F^-(x) = 1_{[0,+\\infty)}(x)(2\\pi)^{-1} \\int_{-\\infty}^{+\\infty} e^{ix(\\upsilon+i\\omega_+)} \\frac{ln(q+\\psi(\\upsilon+i\\omega_+))}{(\\upsilon+i\\omega_+)^2} d(\\upsilon) = 1_{[0,+\\infty)}(x)\\frac{e^{i\\omega_+}\\cdot 1}{(2\\pi)} \\int_{-\\infty}^{+\\infty} e^{ix(\\upsilon)} \\frac{ln(q+\\psi(\\upsilon+i\\omega_+))}{(\\upsilon+i\\omega_+)^2} d(\\upsilon) $$\n",
    "$$ \\hat{F}^-(\\xi) = \\int_{-\\infty}^{+\\infty} e^{-ix\\xi} F^-(x) dx $$"
   ]
  },
  {
   "cell_type": "code",
   "execution_count": null,
   "metadata": {
    "collapsed": true
   },
   "outputs": [],
   "source": [
    "# преобразование Фурье должно допускать вычисление интеграла по \\xi\n",
    "# но поскольку мы имеем дело с ПДО, нужно ещё знать, с какими именно\n",
    "xi_space = fft.fftfreq(M, d=d)\n",
    "upsilon_space = fft.fftfreq(M, d=d)\n",
    "\n",
    "omega_plus = 1\n",
    "\n",
    "\n",
    "def integrand(upsilon):\n",
    "    return log(q + psi(upsilon + i*omega_plus)) / (upsilon + i*omega_plus)^2\n",
    "\n",
    "integrand_vals = [integrand(upsilon) for upsilon in upsilon_space]\n",
    "\n",
    "# factor functions\n",
    "def F_capital(x_array):\n",
    "    exp(i*omega_plus) * fft.ifft(integrand_vals)\n",
    "    \n",
    "    \n",
    "\n",
    "phi_minus_array = array([-beta_minus/(-beta_minus + i*2*pi*xi) for xi in xi_space])\n",
    "\n",
    "# main cycle (iterating over time)\n",
    "f_n = array(f_N)\n",
    "#plt.plot(original_prices_array, f_n)\n",
    "for i in range(N):\n",
    "   f_n_plus_1 = factor * fft.ifft(phi_minus_array *\n",
    "       fft.fft(indicator(fft.ifft(phi_plus_array * fft.fft(f_n)))))\n",
    "   f_n = f_n_plus_1\n",
    "\n",
    "plt.plot(original_prices_array, f_n_plus_1)\n",
    "\n",
    "plt.savefig(\"out.png\")\n",
    "plt.show()"
   ]
  },
  {
   "cell_type": "markdown",
   "metadata": {},
   "source": []
  }
 ],
 "metadata": {
  "anaconda-cloud": {},
  "kernelspec": {
   "display_name": "Python [conda root]",
   "language": "python",
   "name": "conda-root-py"
  },
  "language_info": {
   "codemirror_mode": {
    "name": "ipython",
    "version": 3
   },
   "file_extension": ".py",
   "mimetype": "text/x-python",
   "name": "python",
   "nbconvert_exporter": "python",
   "pygments_lexer": "ipython3",
   "version": "3.5.2"
  }
 },
 "nbformat": 4,
 "nbformat_minor": 1
}
