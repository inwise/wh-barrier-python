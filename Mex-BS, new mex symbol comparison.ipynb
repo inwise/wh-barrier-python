{
 "cells": [
  {
   "cell_type": "markdown",
   "metadata": {},
   "source": [
    "# Сравнение операторов\n",
    "\n",
    "Идея создания этого блокнота в том, чтобы сравнить символы операторов, которые получаются в результате применения явных формул, с тем, что можно можно получить с использованием приближённых формул.\n",
    "\n",
    "Сравнение будет на первых порах графическим, далее, вероятно, можно посмотреть и саму ошибку.\n",
    "\n",
    "Опцион выбран самым обычным"
   ]
  },
  {
   "cell_type": "code",
   "execution_count": 35,
   "metadata": {
    "collapsed": true
   },
   "outputs": [],
   "source": [
    "import numpy as np\n",
    "from numpy import log, sqrt\n",
    "from numpy import exp, linspace, fft, array, arange, pi\n",
    "import matplotlib.pyplot as plt"
   ]
  },
  {
   "cell_type": "code",
   "execution_count": 36,
   "metadata": {
    "collapsed": true
   },
   "outputs": [],
   "source": [
    "import time\n",
    "# для измерения времени\n",
    "class Profiler(object):\n",
    "    def __enter__(self):\n",
    "        self._startTime = time.time()\n",
    "         \n",
    "    def __exit__(self, type, value, traceback):\n",
    "        print(\"Elapsed time: {:.3f} sec\".format(time.time() - self._startTime))"
   ]
  },
  {
   "cell_type": "markdown",
   "metadata": {},
   "source": [
    "Параметры контракта down-and-out put"
   ]
  },
  {
   "cell_type": "code",
   "execution_count": 37,
   "metadata": {
    "collapsed": true
   },
   "outputs": [],
   "source": [
    "# model parameters - we are going to evaluate a barrier put\n",
    "T = 1\n",
    "H_original = 90.0 # limit\n",
    "K_original = 100.0 # strike\n",
    "r_premia = 10 # annual interest rate\n",
    "r = log(r_premia/100 + 1)\n",
    "V0 = 0.316227766"
   ]
  },
  {
   "cell_type": "code",
   "execution_count": 38,
   "metadata": {
    "collapsed": true
   },
   "outputs": [],
   "source": [
    "# Определим функцию выплат:\n",
    "def G(y, barrier, strike):\n",
    "    \"\"\"payoff_function for a given option type (down-and-out put there)\"\"\"\n",
    "    if (barrier <= y) and (y <= strike):\n",
    "        return K_original - H_original*exp(y)\n",
    "    else:\n",
    "        return 0"
   ]
  },
  {
   "cell_type": "markdown",
   "metadata": {},
   "source": [
    "Характеристическая экспонента процесса Б-Ш\n",
    "$$\\psi(\\xi) = \\frac{{\\color{green}{\\sigma}}^2}{2} \\xi^2 - i{\\color{green}{\\gamma}}\\xi$$"
   ]
  },
  {
   "cell_type": "code",
   "execution_count": 39,
   "metadata": {
    "collapsed": true
   },
   "outputs": [],
   "source": [
    "sigma = V0\n",
    "gamma = r - 0.5 * sigma**2 # Black-Scholes parameter, from a no-arbitrage condition\n",
    "\n",
    "def psi(xi):\n",
    "    return (sigma**2/2) * xi * xi - 1j*gamma*xi"
   ]
  },
  {
   "cell_type": "markdown",
   "metadata": {},
   "source": [
    "Подготавливаем дискретизацию, задаём шкалу по переменной, связанной с ценой, производим замены\n",
    "$$ y = ln(S)$$\n",
    "$$ K = ln(K), H = ln(H) $$\n",
    "\n",
    "Укладываем $M$ точек между $L \\cdot ln(1/2)$  и $ L \\cdot ln(2) $"
   ]
  },
  {
   "cell_type": "code",
   "execution_count": 40,
   "metadata": {
    "collapsed": false
   },
   "outputs": [],
   "source": [
    "# constants in log scale for price, by Zanette\n",
    "M = 2**15  # number of points in price grid\n",
    "L = 1  # scaling coefficient\n",
    "y_min = L * log(0.5)\n",
    "y_max = L * log(2.0)\n",
    "d = (y_max - y_min) / M  # discretization step\n",
    "K = log(K_original/H_original)\n",
    "H = log(H_original/H_original)\n",
    "y_space = []  # prices array\n",
    "for p_elem_index in range(M):\n",
    "    y_space.append(y_min + p_elem_index * d)\n",
    "y_space = np.array(y_space)\n",
    "\n",
    "#plt.plot(y_space, color = 'y')\n",
    "#plt.ylabel('price line in logscale')\n",
    "#plt.show()"
   ]
  },
  {
   "cell_type": "markdown",
   "metadata": {},
   "source": [
    "Теперь дискретизация по времени:"
   ]
  },
  {
   "cell_type": "code",
   "execution_count": 41,
   "metadata": {
    "collapsed": false
   },
   "outputs": [],
   "source": [
    "original_prices_array = H_original * exp(y_space)\n",
    "# time discretization\n",
    "N = 20  # number_of_time_steps\n",
    "delta_t = T/N\n",
    "\n",
    "#plt.plot(original_prices_array, color = 'y')\n",
    "#plt.ylabel('prices in linear scale')\n",
    "#plt.show()"
   ]
  },
  {
   "cell_type": "markdown",
   "metadata": {},
   "source": [
    "Величины, связанные с факторизацией. В этой модели всё просто - при постоянной вариации нет необходимости учитывать эффекты решётки волатильности.\n",
    "\n",
    "Действие, которое мы хотим произвести на каждом шаге по времени, выглядит так:\n",
    "$$f_n(y) = ({\\color{green}{q\\Delta t}}) ^{-1} \\mathcal{E}_{\\color{green}{q}}^- 1_{y>ln(H)} \\mathcal{E}_{\\color{green}{q}}^+ f_{n+1}(y)$$\n",
    "\n",
    "Получить хотим $f_0(y)$, там для каждого y и ответ лежит\n",
    "\n",
    "Зелёные - константы. Определим их."
   ]
  },
  {
   "cell_type": "code",
   "execution_count": 42,
   "metadata": {
    "collapsed": false,
    "scrolled": true
   },
   "outputs": [],
   "source": [
    "q = 1.0/delta_t + r\n",
    "factor = (q*delta_t)**(-1)\n",
    "\n",
    "# Зададим начальные уловия\n",
    "f_N = array([G(y_element, H, K) for y_element in y_space]) # = g(x) i.e. payoff func\n",
    "\n",
    "# plt.plot(original_prices_array, f_N,  'y')\n",
    "# plt.ylabel('initial conditions, payoff func')\n",
    "# plt.xlabel('stock price', color = 'y')\n",
    "# plt.show()"
   ]
  },
  {
   "cell_type": "markdown",
   "metadata": {},
   "source": [
    "В уравнении выше есть нигде пока не определённные функции (на самом деле, операторы)\n",
    "$$ \\mathcal{E}^\\pm_q f(x) = (2\\pi)^{-1} \\int_{-\\infty}^{+\\infty} e^{ix\\xi} \\phi^\\pm_q (\\xi) \\hat{f}(\\xi) d\\xi $$\n",
    "\n",
    "\n",
    "А в них - пока не определённые $\\phi_q^\\pm$"
   ]
  },
  {
   "cell_type": "markdown",
   "metadata": {},
   "source": [
    "## Фи-минус"
   ]
  },
  {
   "cell_type": "markdown",
   "metadata": {},
   "source": [
    "$\\phi^-_q(\\xi)$ будут иметь вид:\n",
    "\n",
    "$$ \\phi^-_q(\\xi) = exp[-i\\xi F^-(0) - \\xi^2 \\hat{F}^-(\\xi)] $$\n",
    "\n",
    "$$ F^-(x) = 1_{[0,+\\infty)}(x)(2\\pi)^{-1} \\int_{-\\infty + i\\omega_+}^{+\\infty + i\\omega_+} e^{ix\\eta} \\frac{ln(q+\\psi(\\eta))}{\\eta^2} d\\eta =$$\n",
    "\n",
    "$$// \\upsilon = \\eta -i\\omega_+ //$$\n",
    "\n",
    "$$= 1_{[0,+\\infty)}(x)(2\\pi)^{-1} \\int_{-\\infty}^{+\\infty} e^{ix(\\upsilon+i\\omega_+)} \\frac{ln(q+\\psi(\\upsilon+i\\omega_+))}{(\\upsilon+i\\omega_+)^2} d(\\upsilon) =  $$\n",
    "$$= 1_{[0,+\\infty)}(x)e^{-x\\omega_+}\\frac{1}{2\\pi} \\int_{-\\infty}^{+\\infty} e^{ix(\\upsilon)} \\frac{ln(q+\\psi(\\upsilon+i\\omega_+))}{(\\upsilon+i\\omega_+)^2} d(\\upsilon) $$\n",
    "$$ \\hat{F}^-(\\xi) = \\int_{-\\infty}^{+\\infty} e^{-ix\\xi} F^-(x) dx $$"
   ]
  },
  {
   "cell_type": "markdown",
   "metadata": {},
   "source": [
    "Вычислим значение подынтегральной части сразу в виде массива: $$intfunc_-(\\upsilon) = \\frac{ln(q+\\psi(\\upsilon+i\\omega_+))}{(\\upsilon+i\\omega_+)^2}, \\upsilon \\in \\upsilon\\_space$$"
   ]
  },
  {
   "cell_type": "code",
   "execution_count": 43,
   "metadata": {
    "collapsed": false
   },
   "outputs": [
    {
     "data": {
      "image/png": "[encoded data removed]",
      "text/plain": [
       "<matplotlib.figure.Figure at 0x1bfbd83f080>"
      ]
     },
     "metadata": {},
     "output_type": "display_data"
    },
    {
     "data": {
      "image/png": "[encoded data removed]",
      "text/plain": [
       "<matplotlib.figure.Figure at 0x1bfbdc02978>"
      ]
     },
     "metadata": {},
     "output_type": "display_data"
    }
   ],
   "source": [
    "omega_plus = 10\n",
    "\n",
    "def integrand_minus(upsilon_array):\n",
    "    \"\"\"\n",
    "    принимает и возвращает массив длиной в степень двойки, исходя из логики дальнейшего использования\n",
    "    \"\"\"\n",
    "    return np.array([log(q + psi(upsilon + 1j*omega_plus)) / (upsilon + 1j*omega_plus)**2 for upsilon in upsilon_array])\n",
    "\n",
    "upsilon_M = 2**11\n",
    "upsilon_space = np.linspace(-20.0, 20.0, num=upsilon_M, endpoint=False)\n",
    "\n",
    "plt.plot(upsilon_space, integrand_minus(upsilon_space).real, 'g.')\n",
    "plt.xlabel('upsilon values', color='m')\n",
    "plt.ylabel('real component', color='g')\n",
    "\n",
    "plt.show()\n",
    "\n",
    "plt.plot(upsilon_space, integrand_minus(upsilon_space).imag, 'r.')\n",
    "plt.xlabel('upsilon values', color='m')\n",
    "plt.ylabel('imag component', color='r')\n",
    "\n",
    "plt.show()"
   ]
  },
  {
   "cell_type": "markdown",
   "metadata": {},
   "source": [
    "Теперь реализуем кусок в виде fft:\n",
    "$$F^-(\\color{orange}{x}) = 1_{[0,+\\infty)}(\\color{orange}{x})e^{-\\color{orange}{x}\\omega_+}\\color{orange}{\\frac{1}{2\\pi}\\int_{-\\infty}^{+\\infty} e^{i\\color{orange}{x}\\color{magenta}{\\upsilon}} intfunc_-(\\color{magenta}{\\upsilon}) d\\color{magenta}{\\upsilon}} $$\n",
    "\n",
    "Здесь возникает проблема, связанная с реализацией fft. Умножению на $e^{ix\\xi}$ соответствует в numerical recipes прямое преобразование Фурье и соответствующее DFT. У нас же в определениях - обратное. По счастью, в библиотеке numpy придерживаются нашего подхода (вот документация, которая это подтверждает https://docs.scipy.org/doc/numpy/reference/routines.fft.html). Отличие только в том, что нужно учесть масштабирующий множитель.\n",
    "\n",
    "Тогда $\\color{magenta}{\\upsilon}$, в которых вычисляется наша подынтегральная функция, будет относиться к домену частот. И возьмёт на себя роль, которую берёт $\\color{magenta}{\\xi}$ \n",
    "\n",
    "На вход нужно передать массив $\\color{magenta}{intfunc(\\upsilon)}$\n",
    "\n",
    "<span style=\"color:red\">Замечание</span>: Похоже, значения двойственной переменной лежат в промежутке $$[\\frac{-\\pi}{d}  \\cdot\\frac{1}{2\\pi}, \\frac{-\\pi}{d} \\cdot \\frac{1}{2\\pi})$$\n",
    "\n",
    "Или, проще, $$[-1/2d, 1/2d)$$\n",
    "\n",
    "Тем не менее, значения $\\color{magenta}{\\upsilon}$, в которых предполагается считать подынтегральную функцию, пришли из другой формы преобразования Фурье, где диапазон изменения переменной спектра таков: $$[-\\pi/d, \\pi/d)$$. Для того, чтобы привести значения к единой шкале, значения $\\color{magenta}{\\upsilon}$ нужно умножить на $2\\pi$"
   ]
  },
  {
   "cell_type": "code",
   "execution_count": 70,
   "metadata": {
    "collapsed": false
   },
   "outputs": [
    {
     "name": "stdout",
     "output_type": "stream",
     "text": [
      "1.43051147461e-06\n"
     ]
    }
   ],
   "source": [
    "#пусть мой вывод будет нарисован от -1 до 1\n",
    "#Там будет M точек\n",
    "M = 2**22\n",
    "x_space = np.linspace(-3, 3, num = M, endpoint=False)\n",
    "# тогда интервал между точками (они распределены равномерно)\n",
    "d = x_space[1] - x_space[0]\n",
    "# соответствующие частоты получим при помощи функции\n",
    "respective_upsilon_space = 2*pi*fft.fftfreq(M, d=d)\n",
    "# проверим вывод\n",
    "print(d)\n",
    "# plt.plot(x_space, 'y.')\n",
    "# plt.show()\n",
    "# plt.plot(respective_upsilon_space, 'm.')\n",
    "# plt.show()"
   ]
  },
  {
   "cell_type": "code",
   "execution_count": 71,
   "metadata": {
    "collapsed": false,
    "scrolled": true
   },
   "outputs": [
    {
     "data": {
      "image/png": "[encoded data removed]",
      "text/plain": [
       "<matplotlib.figure.Figure at 0x1bfc9ef8e48>"
      ]
     },
     "metadata": {},
     "output_type": "display_data"
    },
    {
     "data": {
      "image/png": "[encoded data removed]",
      "text/plain": [
       "<matplotlib.figure.Figure at 0x1bfbdc57f98>"
      ]
     },
     "metadata": {},
     "output_type": "display_data"
    }
   ],
   "source": [
    "def F_minus_capital():\n",
    "    # исходим из того, что x_array содержит M (то есть степень двойки) точек\n",
    "    big_integral = fft.ifft(integrand_minus(respective_upsilon_space))\n",
    "    # уберём масштабирующий множитель из библиотечного ifft за ненадобностью\n",
    "    big_integral = M * big_integral    \n",
    "    exp_powers = -1 * omega_plus * x_space\n",
    "    exponent_factor = exp(exp_powers)\n",
    "    weighted_big_integral = exponent_factor * big_integral\n",
    "    indicator_array = np.where(np.array(x_space) >= 0, 1,0)\n",
    "    return indicator_array * weighted_big_integral\n",
    "\n",
    "filterdraw_left = np.where(np.array(x_space) >= -1, 1, np.nan)\n",
    "filterdraw_right = np.where(np.array(x_space) < 2, 1, np.nan)\n",
    "\n",
    "filterdraw =  filterdraw_left * filterdraw_right\n",
    "\n",
    "\n",
    "plt.plot(x_space * filterdraw, filterdraw * F_minus_capital().real, 'g')\n",
    "plt.xlabel('x_array values', color='y')\n",
    "plt.ylabel('real component', color='g')\n",
    "plt.show()\n",
    "\n",
    "plt.plot(x_space * filterdraw, filterdraw * F_minus_capital().imag, 'r')\n",
    "plt.xlabel('x_array values', color='y')\n",
    "plt.ylabel('imag component', color='r')\n",
    "\n",
    "plt.show()"
   ]
  },
  {
   "cell_type": "markdown",
   "metadata": {},
   "source": [
    "#Теперь нас интересует $$ \\hat{F}^-(\\xi) = \\int_{-\\infty}^{+\\infty} e^{-ix\\xi} F^-(x) dx $$"
   ]
  },
  {
   "cell_type": "code",
   "execution_count": 72,
   "metadata": {
    "collapsed": false
   },
   "outputs": [
    {
     "ename": "NameError",
     "evalue": "name 'x_array' is not defined",
     "output_type": "error",
     "traceback": [
      "\u001b[0;31m---------------------------------------------------------------------------\u001b[0m",
      "\u001b[0;31mNameError\u001b[0m                                 Traceback (most recent call last)",
      "\u001b[0;32m<ipython-input-72-170e520c2175>\u001b[0m in \u001b[0;36m<module>\u001b[0;34m()\u001b[0m\n\u001b[1;32m      4\u001b[0m     \u001b[1;32mreturn\u001b[0m \u001b[0mfft\u001b[0m\u001b[1;33m.\u001b[0m\u001b[0mifft\u001b[0m\u001b[1;33m(\u001b[0m\u001b[0mF_minus_capital\u001b[0m\u001b[1;33m(\u001b[0m\u001b[0mdomain_array\u001b[0m\u001b[1;33m)\u001b[0m\u001b[1;33m)\u001b[0m\u001b[1;33m\u001b[0m\u001b[0m\n\u001b[1;32m      5\u001b[0m \u001b[1;33m\u001b[0m\u001b[0m\n\u001b[0;32m----> 6\u001b[0;31m \u001b[0mplt\u001b[0m\u001b[1;33m.\u001b[0m\u001b[0mplot\u001b[0m\u001b[1;33m(\u001b[0m\u001b[0mx_array\u001b[0m\u001b[1;33m,\u001b[0m \u001b[0mF_minus_capital_hat\u001b[0m\u001b[1;33m(\u001b[0m\u001b[0mx_array\u001b[0m\u001b[1;33m)\u001b[0m\u001b[1;33m.\u001b[0m\u001b[0mreal\u001b[0m\u001b[1;33m,\u001b[0m \u001b[1;34m'g--'\u001b[0m\u001b[1;33m)\u001b[0m\u001b[1;33m\u001b[0m\u001b[0m\n\u001b[0m\u001b[1;32m      7\u001b[0m \u001b[0mplt\u001b[0m\u001b[1;33m.\u001b[0m\u001b[0mxlabel\u001b[0m\u001b[1;33m(\u001b[0m\u001b[1;34m'y_space values'\u001b[0m\u001b[1;33m,\u001b[0m \u001b[0mcolor\u001b[0m\u001b[1;33m=\u001b[0m\u001b[1;34m'y'\u001b[0m\u001b[1;33m)\u001b[0m\u001b[1;33m\u001b[0m\u001b[0m\n\u001b[1;32m      8\u001b[0m \u001b[0mplt\u001b[0m\u001b[1;33m.\u001b[0m\u001b[0mylabel\u001b[0m\u001b[1;33m(\u001b[0m\u001b[1;34m'real component'\u001b[0m\u001b[1;33m,\u001b[0m \u001b[0mcolor\u001b[0m\u001b[1;33m=\u001b[0m\u001b[1;34m'g'\u001b[0m\u001b[1;33m)\u001b[0m\u001b[1;33m\u001b[0m\u001b[0m\n",
      "\u001b[0;31mNameError\u001b[0m: name 'x_array' is not defined"
     ]
    }
   ],
   "source": [
    "# Заметим, что входным аргументом здесь будет вовсе не кси, а x, на которых считается подынтегральная функция\n",
    "\n",
    "def F_minus_capital_hat(domain_array):\n",
    "    return fft.ifft(F_minus_capital(domain_array))\n",
    "\n",
    "plt.plot(x_array, F_minus_capital_hat(x_array).real, 'g--')\n",
    "plt.xlabel('y_space values', color='y')\n",
    "plt.ylabel('real component', color='g')\n",
    "plt.show()\n",
    "\n",
    "plt.plot(x_array, F_minus_capital_hat(x_array).imag, 'r--')\n",
    "plt.xlabel('y_space values', color='y')\n",
    "plt.ylabel('imag component', color='r')\n",
    "plt.show()"
   ]
  },
  {
   "cell_type": "markdown",
   "metadata": {},
   "source": [
    "Наконец, у нас достаточно функций, чтобы закодировать \n",
    "$$ \\phi^-_q(\\xi) = exp[-i\\xi F^-(0) - \\xi^2 \\hat{F}^-(\\xi)] $$\n",
    "\n",
    "Но прежде стоит заметить, что нам удобнее, из практических соображений, вычислять $\\phi^-_q(\\xi)$ сразу в виде массива. Тогда нам нужно некоторым специальным образом обработать часть $ -i\\xi F^-(0)$"
   ]
  },
  {
   "cell_type": "code",
   "execution_count": 20,
   "metadata": {
    "collapsed": false
   },
   "outputs": [
    {
     "data": {
      "image/png": "[encoded data removed]",
      "text/plain": [
       "<matplotlib.figure.Figure at 0x1c2152ad908>"
      ]
     },
     "metadata": {},
     "output_type": "display_data"
    }
   ],
   "source": [
    "d_for_upsilon = 100.0/M\n",
    "xi_space = fft.fftfreq(M, d=d_for_upsilon)\n",
    "\n",
    "def make_phi_minus_array(xi_array):\n",
    "    first_term = -   1j * F_minus_capital(np.zeros(len(upsilon_space))) * np.array(xi_array)\n",
    "    second_term = - np.array(xi_array) * np.array(xi_array) * F_minus_capital_hat(upsilon_space)\n",
    "    return exp(first_term + second_term)\n",
    "\n",
    "def make_cf_bs_phi_minus_array(xi_array):\n",
    "    beta_minus = - (gamma + sqrt(gamma**2 + 2*sigma**2 * q))/sigma**2\n",
    "    phi_minus_array = array([-beta_minus/(-beta_minus + 1j*2*pi*xi) for xi in xi_array])\n",
    "    return phi_minus_array\n",
    "\n",
    "ax1 = plt.subplot(411)\n",
    "plt.plot(xi_space, (make_phi_minus_array(xi_space)).real, 'g.')\n",
    "plt.ylabel('real mex', color='g')\n",
    "plt.setp(ax1.get_xticklabels(), visible=False)\n",
    "\n",
    "ax2 = plt.subplot(412, sharex=ax1)\n",
    "plt.plot(xi_space, make_cf_bs_phi_minus_array(xi_space).real, 'g.')\n",
    "plt.ylabel('real bs', color='g')\n",
    "plt.setp(ax2.get_xticklabels(), visible=False)\n",
    "\n",
    "ax3 = plt.subplot(413, sharex=ax1)\n",
    "plt.plot(xi_space, (make_phi_minus_array(xi_space)).imag, 'r.')\n",
    "plt.ylabel('imag mex', color='r')\n",
    "plt.setp(ax3.get_xticklabels(), visible=False)\n",
    "\n",
    "ax4 = plt.subplot(414, sharex=ax1)\n",
    "plt.plot(xi_space, make_cf_bs_phi_minus_array(xi_space).imag, 'r.')\n",
    "plt.ylabel('imag bs', color='r')\n",
    "\n",
    "plt.xlabel('xi_space values', color='m')\n",
    "\n",
    "filename_real_pic = \"symbol_phi_minus_bs_mex N %2d L %.1f M %2d.png\"  % (N, L, M)\n",
    "plt.savefig(\"out_pictures/\" + filename_real_pic)\n",
    "plt.show()\n",
    "\n",
    "plt.show()"
   ]
  },
  {
   "cell_type": "code",
   "execution_count": null,
   "metadata": {
    "collapsed": true
   },
   "outputs": [],
   "source": []
  },
  {
   "cell_type": "markdown",
   "metadata": {},
   "source": [
    "## Фи-плюс"
   ]
  },
  {
   "cell_type": "markdown",
   "metadata": {},
   "source": [
    "$\\phi^+_q(\\xi)$ будут иметь вид:\n",
    "\n",
    "$$ \\phi^+_q(\\xi) = exp[i\\xi F^+(0) - \\xi^2 \\hat{F}^+(\\xi)], $$\n",
    "$$ F^+(x) = 1_{(-\\infty, 0]}(x)(2\\pi)^{-1} \\int_{-\\infty + i\\omega_-}^{+\\infty + i\\omega_-} e^{ix\\eta} \\frac{ln(q+\\psi(\\eta))}{\\eta^2} d\\eta = $$\n",
    "$$ = 1_{(-\\infty, 0]}(x)(2\\pi)^{-1} \\int_{-\\infty}^{+\\infty} e^{ix(\\upsilon+i\\omega_-)} \\frac{ln(q+\\psi(\\upsilon+i\\omega_-))}{(\\upsilon+i\\omega_-)^2} d(\\upsilon) = $$ \n",
    "$$ = 1_{(-\\infty, 0]}(x)e^{-x\\omega_-}\\frac{1}{2\\pi} \\int_{-\\infty}^{+\\infty} e^{ix(\\upsilon)} \\frac{ln(q+\\psi(\\upsilon+i\\omega_-))}{(\\upsilon+i\\omega_-)^2} d(\\upsilon);$$\n",
    "$$ \\hat{F}^+(\\xi) = \\int_{-\\infty}^{+\\infty} e^{-ix\\xi} F^+(x) dx. $$"
   ]
  },
  {
   "cell_type": "code",
   "execution_count": null,
   "metadata": {
    "collapsed": false
   },
   "outputs": [],
   "source": [
    "# преобразование Фурье должно допускать вычисление интеграла c \\xi\n",
    "# но поскольку мы имеем дело с ПДО, нужно ещё знать, с какими именно\n",
    "xi_space = fft.fftfreq(M, d=d)\n",
    "upsilon_space = fft.fftfreq(M, d=d)\n",
    "\n",
    "omega_minus = -1\n",
    "\n",
    "# Теперь надо поколдовать с функцией F(x). Кодировать её для каждого отдельного значения x можно, \n",
    "# но для этого придётся использовать медленные методы вычисления интегралов.\n",
    "# Поэтому она должна принимать  массив длиной M и обрабатывать его."
   ]
  },
  {
   "cell_type": "markdown",
   "metadata": {},
   "source": [
    "Вычислим значение подынтегральной части сразу в виде массива: $$intfunc(\\upsilon) = \\frac{ln(q+\\psi(\\upsilon+i\\omega_-))}{(\\upsilon+i\\omega_-)^2}, \\upsilon \\in \\upsilon\\_space$$"
   ]
  },
  {
   "cell_type": "code",
   "execution_count": null,
   "metadata": {
    "collapsed": false
   },
   "outputs": [],
   "source": [
    "def integrand_plus(upsilon_array):\n",
    "    \"\"\"\n",
    "    принимает и возвращает массив длиной M,\n",
    "    работает (должна) на upsilon_space по умолчанию\n",
    "    тоже должна возвращать\n",
    "    \"\"\"\n",
    "    return np.array([log(q + psi(upsilon + 1j*omega_minus)) / (upsilon + 1j*omega_minus)**2 for upsilon in upsilon_array])\n",
    "\n",
    "# print(integrand_minus(upsilon_space))\n",
    "# plt.plot(upsilon_space, integrand_plus(upsilon_space).real, 'g.')\n",
    "# plt.xlabel('upsilon values', color='m')\n",
    "# plt.ylabel('real component', color='g')\n",
    "# plt.show()\n",
    "\n",
    "# plt.plot(upsilon_space, integrand_plus(upsilon_space).imag, 'r.')\n",
    "# plt.xlabel('xi_space values', color='m')\n",
    "# plt.ylabel('imag component', color='r')\n",
    "# plt.show()"
   ]
  },
  {
   "cell_type": "markdown",
   "metadata": {},
   "source": [
    "Теперь реализуем кусок в виде fft:\n",
    "$$ F^+(x) = 1_{(-\\infty, 0]}(x)e^{-x\\omega_-}\\color{magenta}{\\frac{1}{2\\pi} \\int_{-\\infty}^{+\\infty} e^{ix(\\upsilon)} intfunc(\\upsilon) d(\\upsilon)} $$"
   ]
  },
  {
   "cell_type": "code",
   "execution_count": null,
   "metadata": {
    "collapsed": false
   },
   "outputs": [],
   "source": [
    "# factor functions\n",
    "def F_plus_capital(x_array):\n",
    "    big_integral = fft.ifft(integrand_plus(upsilon_space))\n",
    "    osc_exponent = [exp(-1 * x_elem * omega_minus) for x_elem in x_array] \n",
    "    weighted_big_integral = np.array(osc_exponent) * np.array(big_integral)\n",
    "    indicator_array = np.where(np.array(x_array) <= 0, 1,0)\n",
    "    return indicator_array * weighted_big_integral\n",
    "\n",
    "# print(F_plus_capital(y_space))\n",
    "# plt.plot(y_space, F_plus_capital(y_space).real, 'g.')\n",
    "# plt.xlabel('y_space values', color='y')\n",
    "# plt.ylabel('real component', color='g')\n",
    "# plt.show()\n",
    "\n",
    "# plt.plot(y_space, F_plus_capital(y_space).imag, 'r.')\n",
    "# plt.xlabel('y_space values', color='y')\n",
    "# plt.ylabel('imag component', color='r')\n",
    "# plt.show()"
   ]
  },
  {
   "cell_type": "markdown",
   "metadata": {},
   "source": [
    "Теперь нас интересует $$ \\hat{F}^+(\\xi) = \\int_{-\\infty}^{+\\infty} e^{-ix\\xi} F^+(x) dx $$"
   ]
  },
  {
   "cell_type": "code",
   "execution_count": null,
   "metadata": {
    "collapsed": false
   },
   "outputs": [],
   "source": [
    "def F_plus_capital_hat(xi_array):\n",
    "    return fft.fft(F_plus_capital(y_space))\n",
    "\n",
    "# plt.plot(xi_space, F_plus_capital_hat(xi_space).real, 'g.')\n",
    "# plt.xlabel('xi_space values', color='m')\n",
    "# plt.ylabel('imag component', color='r')\n",
    "# plt.show()\n",
    "\n",
    "# plt.plot(xi_space, F_plus_capital_hat(xi_space).imag, 'r.')\n",
    "# plt.xlabel('xi_space values', color='m')\n",
    "# plt.ylabel('imag component', color='r')\n",
    "# plt.show()"
   ]
  },
  {
   "cell_type": "markdown",
   "metadata": {},
   "source": [
    "Наконец, у нас достаточно функций, чтобы закодировать \n",
    "$$ \\phi^+_q(\\xi) = exp[i\\xi F^+(0) - \\xi^2 \\hat{F}^+(\\xi)] $$\n",
    "\n",
    "Но прежде стоит заметить, что нам удобнее, из практических соображений, вычислять $\\phi^+_q(\\xi)$ сразу в виде массива. Тогда нам нужно некоторым специальным образом обработать часть $ -i\\xi F^+(0)$\n"
   ]
  },
  {
   "cell_type": "code",
   "execution_count": null,
   "metadata": {
    "collapsed": false
   },
   "outputs": [],
   "source": [
    "def make_phi_plus_array(xi_array):\n",
    "    first_term = 1j *  np.array(xi_array) * F_plus_capital(np.zeros(len(y_space)))\n",
    "    second_term = - np.array(xi_array) * np.array(xi_array) * F_plus_capital_hat(xi_array)\n",
    "    return exp(first_term + second_term)\n",
    "\n",
    "def make_cf_bs_phi_plus_array(xi_array):\n",
    "    beta_plus = - (gamma - sqrt(gamma**2 + 2*sigma**2 * q))/sigma**2\n",
    "    print(beta_plus)\n",
    "    phi_plus_array = array([beta_plus/(beta_plus - 1j*2*pi*xi) for xi in xi_array])\n",
    "    return phi_plus_array\n",
    "\n",
    "ax1 = plt.subplot(411)\n",
    "plt.plot(xi_space, (make_phi_plus_array(xi_space)).real, 'g.')\n",
    "plt.ylabel('real mex', color='g')\n",
    "plt.setp(ax1.get_xticklabels(), visible=False)\n",
    "\n",
    "ax2 = plt.subplot(412, sharex=ax1)\n",
    "plt.plot(xi_space, make_cf_bs_phi_plus_array(xi_space).real, 'g.')\n",
    "plt.ylabel('real bs', color='g')\n",
    "plt.setp(ax2.get_xticklabels(), visible=False)\n",
    "\n",
    "ax3 = plt.subplot(413, sharex=ax1)\n",
    "plt.plot(xi_space, (make_phi_plus_array(xi_space)).imag, 'r.')\n",
    "plt.ylabel('imag mex', color='r')\n",
    "plt.setp(ax3.get_xticklabels(), visible=False)\n",
    "\n",
    "ax4 = plt.subplot(414, sharex=ax1)\n",
    "plt.plot(xi_space, make_cf_bs_phi_plus_array(xi_space).imag, 'r.')\n",
    "plt.ylabel('imag bs', color='r')\n",
    "\n",
    "plt.xlabel('xi_space values', color='m')\n",
    "\n",
    "filename_real_pic = \"symbol_phi_plus_bs_mex N %2d L %.1f M %2d.png\"  % (N, L, M)\n",
    "plt.savefig(\"out_pictures/\" + filename_real_pic)\n",
    "plt.show()\n",
    "\n",
    "plt.show()"
   ]
  },
  {
   "cell_type": "code",
   "execution_count": null,
   "metadata": {
    "collapsed": true
   },
   "outputs": [],
   "source": []
  }
 ],
 "metadata": {
  "anaconda-cloud": {},
  "kernelspec": {
   "display_name": "Python [conda root]",
   "language": "python",
   "name": "conda-root-py"
  },
  "language_info": {
   "codemirror_mode": {
    "name": "ipython",
    "version": 3
   },
   "file_extension": ".py",
   "mimetype": "text/x-python",
   "name": "python",
   "nbconvert_exporter": "python",
   "pygments_lexer": "ipython3",
   "version": "3.5.2"
  }
 },
 "nbformat": 4,
 "nbformat_minor": 1
}
