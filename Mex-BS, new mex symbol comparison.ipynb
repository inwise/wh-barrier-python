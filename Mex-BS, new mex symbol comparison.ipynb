{
 "cells": [
  {
   "cell_type": "markdown",
   "metadata": {},
   "source": [
    "# Сравнение операторов\n",
    "\n",
    "Идея создания этого блокнота в том, чтобы сравнить символы операторов, которые получаются в результате применения явных формул, с тем, что можно можно получить с использованием приближённых формул.\n",
    "\n",
    "Сравнение будет на первых порах графическим, далее, вероятно, можно посмотреть и саму ошибку.\n",
    "\n",
    "Опцион выбран самым обычным"
   ]
  },
  {
   "cell_type": "code",
   "execution_count": 1,
   "metadata": {
    "collapsed": true
   },
   "outputs": [],
   "source": [
    "import numpy as np\n",
    "from numpy import log, sqrt\n",
    "from numpy import exp, linspace, fft, array, arange, pi\n",
    "import matplotlib.pyplot as plt"
   ]
  },
  {
   "cell_type": "markdown",
   "metadata": {},
   "source": [
    "Параметры контракта down-and-out put"
   ]
  },
  {
   "cell_type": "code",
   "execution_count": 2,
   "metadata": {
    "collapsed": true
   },
   "outputs": [],
   "source": [
    "# model parameters - we are going to evaluate a barrier put\n",
    "T = 1\n",
    "H_original = 90.0 # limit\n",
    "K_original = 100.0 # strike\n",
    "r_premia = 10 # annual interest rate\n",
    "r = log(r_premia/100 + 1)\n",
    "V0 = 0.316227766"
   ]
  },
  {
   "cell_type": "code",
   "execution_count": 3,
   "metadata": {
    "collapsed": true
   },
   "outputs": [],
   "source": [
    "# Определим функцию выплат:\n",
    "def G(y, barrier, strike):\n",
    "    \"\"\"payoff_function for a given option type (down-and-out put there)\"\"\"\n",
    "    if (barrier <= y) and (y <= strike):\n",
    "        return K_original - H_original*exp(y)\n",
    "    else:\n",
    "        return 0"
   ]
  },
  {
   "cell_type": "markdown",
   "metadata": {},
   "source": [
    "Характеристическая экспонента процесса Б-Ш\n",
    "$$\\psi(\\xi) = \\frac{{\\color{green}{\\sigma}}^2}{2} \\xi^2 - i{\\color{green}{\\gamma}}\\xi$$"
   ]
  },
  {
   "cell_type": "code",
   "execution_count": 4,
   "metadata": {
    "collapsed": true
   },
   "outputs": [],
   "source": [
    "sigma = V0\n",
    "gamma = r - 0.5 * sigma**2 # Black-Scholes parameter, from a no-arbitrage condition\n",
    "\n",
    "def psi(xi):\n",
    "    return (sigma**2/2) * xi * xi - 1j*gamma*xi"
   ]
  },
  {
   "cell_type": "markdown",
   "metadata": {},
   "source": [
    "Подготавливаем дискретизацию, задаём шкалу по переменной, связанной с ценой, производим замены\n",
    "$$ y = ln(S)$$\n",
    "$$ K = ln(K), H = ln(H) $$\n",
    "\n",
    "Укладываем $M$ точек между $L \\cdot ln(1/2)$  и $ L \\cdot ln(2) $"
   ]
  },
  {
   "cell_type": "code",
   "execution_count": 5,
   "metadata": {
    "collapsed": false
   },
   "outputs": [],
   "source": [
    "# constants in log scale for price, by Zanette\n",
    "M = 2**10  # number of points in price grid\n",
    "L = 1  # scaling coefficient\n",
    "y_min = L * log(0.5)\n",
    "y_max = L * log(2.0)\n",
    "d = (y_max - y_min) / M  # discretization step\n",
    "K = log(K_original/H_original)\n",
    "H = log(H_original/H_original)\n",
    "y_space = []  # prices array\n",
    "for p_elem_index in range(M):\n",
    "    y_space.append(y_min + p_elem_index * d)\n",
    "y_space = np.array(y_space)\n",
    "\n",
    "#plt.plot(y_space, color = 'y')\n",
    "#plt.ylabel('price line in logscale')\n",
    "#plt.show()"
   ]
  },
  {
   "cell_type": "markdown",
   "metadata": {},
   "source": [
    "Теперь дискретизация по времени:"
   ]
  },
  {
   "cell_type": "code",
   "execution_count": 6,
   "metadata": {
    "collapsed": false
   },
   "outputs": [],
   "source": [
    "original_prices_array = H_original * exp(y_space)\n",
    "# time discretization\n",
    "N = 200  # number_of_time_steps\n",
    "delta_t = T/N\n",
    "\n",
    "#plt.plot(original_prices_array, color = 'y')\n",
    "#plt.ylabel('prices in linear scale')\n",
    "#plt.show()"
   ]
  },
  {
   "cell_type": "markdown",
   "metadata": {},
   "source": [
    "Величины, связанные с факторизацией. В этой модели всё просто - при постоянной вариации нет необходимости учитывать эффекты решётки волатильности.\n",
    "\n",
    "Действие, которое мы хотим произвести на каждом шаге по времени, выглядит так:\n",
    "$$f_n(y) = ({\\color{green}{q\\Delta t}}) ^{-1} \\mathcal{E}_{\\color{green}{q}}^- 1_{y>ln(H)} \\mathcal{E}_{\\color{green}{q}}^+ f_{n+1}(y)$$\n",
    "\n",
    "Получить хотим $f_0(y)$, там для каждого y и ответ лежит\n",
    "\n",
    "Зелёные - константы. Определим их."
   ]
  },
  {
   "cell_type": "code",
   "execution_count": 7,
   "metadata": {
    "collapsed": false,
    "scrolled": true
   },
   "outputs": [],
   "source": [
    "q = 1.0/delta_t + r\n",
    "factor = (q*delta_t)**(-1)\n",
    "\n",
    "# Зададим начальные уловия\n",
    "f_N = array([G(y_element, H, K) for y_element in y_space]) # = g(x) i.e. payoff func\n",
    "\n",
    "# plt.plot(original_prices_array, f_N,  'y')\n",
    "# plt.ylabel('initial conditions, payoff func')\n",
    "# plt.xlabel('stock price', color = 'y')\n",
    "# plt.show()"
   ]
  },
  {
   "cell_type": "markdown",
   "metadata": {},
   "source": [
    "В уравнении выше есть нигде пока не определённные функции (на самом деле, операторы)\n",
    "$$ \\mathcal{E}^\\pm_q f(x) = (2\\pi)^{-1} \\int_{-\\infty}^{+\\infty} e^{ix\\xi} \\phi^\\pm_q (\\xi) \\hat{f}(\\xi) d\\xi $$\n",
    "\n",
    "\n",
    "А в них - пока не определённые $\\phi_q^\\pm$"
   ]
  },
  {
   "cell_type": "markdown",
   "metadata": {},
   "source": [
    "## Фи-минус"
   ]
  },
  {
   "cell_type": "markdown",
   "metadata": {},
   "source": [
    "$\\phi^-_q(\\xi)$ будут иметь вид:\n",
    "\n",
    "$$ \\phi^-_q(\\xi) = exp[-i\\xi F^-(0) - \\xi^2 \\hat{F}^-(\\xi)] $$\n",
    "\n",
    "$$ F^-(x) = 1_{[0,+\\infty)}(x)(2\\pi)^{-1} \\int_{-\\infty + i\\omega_+}^{+\\infty + i\\omega_+} e^{ix\\eta} \\frac{ln(q+\\psi(\\eta))}{\\eta^2} d\\eta =$$\n",
    "$$= 1_{[0,+\\infty)}(x)(2\\pi)^{-1} \\int_{-\\infty}^{+\\infty} e^{ix(\\upsilon+i\\omega_+)} \\frac{ln(q+\\psi(\\upsilon+i\\omega_+))}{(\\upsilon+i\\omega_+)^2} d(\\upsilon) =  $$\n",
    "$$= 1_{[0,+\\infty)}(x)e^{-x\\omega_+}\\frac{1}{2\\pi} \\int_{-\\infty}^{+\\infty} e^{ix(\\upsilon)} \\frac{ln(q+\\psi(\\upsilon+i\\omega_+))}{(\\upsilon+i\\omega_+)^2} d(\\upsilon) $$\n",
    "$$ \\hat{F}^-(\\xi) = \\int_{-\\infty}^{+\\infty} e^{-ix\\xi} F^-(x) dx $$"
   ]
  },
  {
   "cell_type": "code",
   "execution_count": 8,
   "metadata": {
    "collapsed": false
   },
   "outputs": [],
   "source": [
    "# преобразование Фурье должно допускать вычисление интеграла по \\xi\n",
    "# но поскольку мы имеем дело с ПДО, нужно ещё знать, с какими именно\n",
    "xi_space = fft.fftfreq(M, d=d)\n",
    "upsilon_space = fft.fftfreq(M, d=d)\n",
    "\n",
    "omega_plus = 1\n",
    "\n",
    "# Теперь надо поколдовать с функцией F(x). Кодировать её для каждого отдельного значения x можно, \n",
    "# но для этого придётся использовать медленные методы вычисления интегралов.\n",
    "# Поэтому она должна принимать  массив длиной M и обрабатывать его.\n",
    "\n",
    "# plt.plot(xi_space, 'm.')\n",
    "# plt.ylabel('xi and upsilon values', color='m')\n",
    "# plt.ylabel('point number')\n",
    "# plt.show()"
   ]
  },
  {
   "cell_type": "markdown",
   "metadata": {},
   "source": [
    "Вычислим значение подынтегральной части сразу в виде массива: $$intfunc(\\upsilon) = \\frac{ln(q+\\psi(\\upsilon+i\\omega_+))}{(\\upsilon+i\\omega_+)^2}, \\upsilon \\in \\upsilon\\_space$$"
   ]
  },
  {
   "cell_type": "code",
   "execution_count": 9,
   "metadata": {
    "collapsed": false
   },
   "outputs": [],
   "source": [
    "def integrand_minus(upsilon_array):\n",
    "    \"\"\"\n",
    "    принимает и возвращает массив длиной M,\n",
    "    работает (должна) на upsilon_space по умолчанию\n",
    "    тоже должна возвращать\n",
    "    \"\"\"\n",
    "    return np.array([log(q + psi(upsilon + 1j*omega_plus)) / (upsilon + 1j*omega_plus)**2 for upsilon in upsilon_array])\n",
    "\n",
    "\n",
    "# plt.plot(upsilon_space, integrand_minus(upsilon_space).real, 'g.')\n",
    "# plt.xlabel('upsilon values', color='m')\n",
    "# plt.ylabel('real component', color='g')\n",
    "\n",
    "# plt.show()\n",
    "\n",
    "# plt.plot(upsilon_space, integrand_minus(upsilon_space).imag, 'r.')\n",
    "# plt.xlabel('upsilon values', color='m')\n",
    "# plt.ylabel('imag component', color='r')\n",
    "\n",
    "# plt.show()\n",
    "\n",
    "# print(q)"
   ]
  },
  {
   "cell_type": "markdown",
   "metadata": {},
   "source": [
    "Теперь реализуем кусок в виде fft:\n",
    "$$F^-(x) = 1_{[0,+\\infty)}(x)e^{-x\\omega_+}\\color{red}{\\frac{1}{2\\pi} \\int_{-\\infty}^{+\\infty} e^{ix(\\upsilon)} intfunc(\\upsilon) d(\\upsilon)} $$"
   ]
  },
  {
   "cell_type": "code",
   "execution_count": 10,
   "metadata": {
    "collapsed": false
   },
   "outputs": [],
   "source": [
    "# factor functions\n",
    "def F_minus_capital(x_array):\n",
    "    big_integral = fft.ifft(integrand_minus(upsilon_space))\n",
    "    osc_exponent = [exp(-1*x_elem*omega_plus) for x_elem in x_array]\n",
    "    weighted_big_integral = np.array(osc_exponent) * np.array(big_integral)\n",
    "    indicator_array = np.where(np.array(x_array) >= 0, 1,0)\n",
    "    return indicator_array * weighted_big_integral\n",
    "\n",
    "# print(y_space)\n",
    "# print(F_minus_capital(y_space))\n",
    "\n",
    "# plt.plot(y_space, F_minus_capital(y_space).real, 'g.')\n",
    "# plt.xlabel('y_space values', color='y')\n",
    "# plt.ylabel('real component', color='g')\n",
    "# plt.show()\n",
    "\n",
    "# plt.plot(y_space, F_minus_capital(y_space).imag, 'r.')\n",
    "# plt.xlabel('y_space values', color='y')\n",
    "# plt.ylabel('imag component', color='r')\n",
    "# plt.show()"
   ]
  },
  {
   "cell_type": "markdown",
   "metadata": {},
   "source": [
    "Теперь нас интересует $$ \\hat{F}^-(\\xi) = \\int_{-\\infty}^{+\\infty} e^{-ix\\xi} F^-(x) dx $$"
   ]
  },
  {
   "cell_type": "code",
   "execution_count": 11,
   "metadata": {
    "collapsed": false
   },
   "outputs": [],
   "source": [
    "def F_minus_capital_hat(xi_array):\n",
    "    return fft.fft(F_minus_capital(y_space))\n",
    "\n",
    "# plt.plot(y_space, F_minus_capital_hat(y_space).real, 'g--')\n",
    "# plt.xlabel('y_space values', color='y')\n",
    "# plt.ylabel('real component', color='g')\n",
    "# plt.show()\n",
    "\n",
    "# plt.plot(y_space, F_minus_capital_hat(y_space).imag, 'r--')\n",
    "# plt.xlabel('y_space values', color='y')\n",
    "# plt.ylabel('imag component', color='r')\n",
    "# plt.show()"
   ]
  },
  {
   "cell_type": "markdown",
   "metadata": {},
   "source": [
    "Наконец, у нас достаточно функций, чтобы закодировать \n",
    "$$ \\phi^-_q(\\xi) = exp[-i\\xi F^-(0) - \\xi^2 \\hat{F}^-(\\xi)] $$\n",
    "\n",
    "Но прежде стоит заметить, что нам удобнее, из практических соображений, вычислять $\\phi^-_q(\\xi)$ сразу в виде массива. Тогда нам нужно некоторым специальным образом обработать часть $ -i\\xi F^-(0)$"
   ]
  },
  {
   "cell_type": "code",
   "execution_count": 12,
   "metadata": {
    "collapsed": false
   },
   "outputs": [
    {
     "name": "stdout",
     "output_type": "stream",
     "text": [
      "-63.7153457139\n",
      "-63.7153457139\n"
     ]
    },
    {
     "data": {
      "image/png": "[encoded data removed]",
      "text/plain": [
       "<matplotlib.figure.Figure at 0x21e318717f0>"
      ]
     },
     "metadata": {},
     "output_type": "display_data"
    }
   ],
   "source": [
    "\n",
    "def make_phi_minus_array(xi_array):\n",
    "    first_term = -1j * F_minus_capital(np.zeros(len(y_space))) * np.array(xi_array)\n",
    "    second_term = - np.array(xi_array) * np.array(xi_array) * F_minus_capital_hat(xi_array)\n",
    "    return exp(first_term + second_term)\n",
    "\n",
    "def make_cf_bs_phi_minus_array(xi_array):\n",
    "    beta_minus = - (gamma + sqrt(gamma**2 + 2*sigma**2 * q))/sigma**2\n",
    "    print(beta_minus)\n",
    "    phi_minus_array = array([-beta_minus/(-beta_minus + 1j*2*pi*xi) for xi in xi_space])\n",
    "    return phi_minus_array\n",
    "\n",
    "ax1 = plt.subplot(411)\n",
    "plt.plot(xi_space, (make_phi_minus_array(xi_space)).real, 'g.')\n",
    "plt.ylabel('real mex', color='g')\n",
    "plt.setp(ax1.get_xticklabels(), visible=False)\n",
    "\n",
    "ax2 = plt.subplot(412, sharex=ax1)\n",
    "plt.plot(xi_space, make_cf_bs_phi_minus_array(xi_space).real, 'g.')\n",
    "plt.ylabel('real bs', color='g')\n",
    "plt.setp(ax2.get_xticklabels(), visible=False)\n",
    "\n",
    "ax3 = plt.subplot(413, sharex=ax1)\n",
    "plt.plot(xi_space, (make_phi_minus_array(xi_space)).imag, 'r.')\n",
    "plt.ylabel('imag mex', color='r')\n",
    "plt.setp(ax3.get_xticklabels(), visible=False)\n",
    "\n",
    "ax4 = plt.subplot(414, sharex=ax1)\n",
    "plt.plot(xi_space, make_cf_bs_phi_minus_array(xi_space).imag, 'r.')\n",
    "plt.ylabel('imag bs', color='r')\n",
    "\n",
    "plt.xlabel('xi_space values', color='m')\n",
    "\n",
    "filename_real_pic = \"symbol_phi_minus_bs_mex N %2d L %.1f M %2d.png\"  % (N, L, M)\n",
    "plt.savefig(\"out_pictures/\" + filename_real_pic)\n",
    "plt.show()\n",
    "\n",
    "plt.show()"
   ]
  },
  {
   "cell_type": "code",
   "execution_count": null,
   "metadata": {
    "collapsed": true
   },
   "outputs": [],
   "source": []
  },
  {
   "cell_type": "markdown",
   "metadata": {},
   "source": [
    "## Фи-плюс"
   ]
  },
  {
   "cell_type": "markdown",
   "metadata": {},
   "source": [
    "$\\phi^+_q(\\xi)$ будут иметь вид:\n",
    "\n",
    "$$ \\phi^+_q(\\xi) = exp[i\\xi F^+(0) - \\xi^2 \\hat{F}^+(\\xi)], $$\n",
    "$$ F^+(x) = 1_{(-\\infty, 0]}(x)(2\\pi)^{-1} \\int_{-\\infty + i\\omega_-}^{+\\infty + i\\omega_-} e^{ix\\eta} \\frac{ln(q+\\psi(\\eta))}{\\eta^2} d\\eta = $$\n",
    "$$ = 1_{(-\\infty, 0]}(x)(2\\pi)^{-1} \\int_{-\\infty}^{+\\infty} e^{ix(\\upsilon+i\\omega_-)} \\frac{ln(q+\\psi(\\upsilon+i\\omega_-))}{(\\upsilon+i\\omega_-)^2} d(\\upsilon) = $$ \n",
    "$$ = 1_{(-\\infty, 0]}(x)e^{-x\\omega_-}\\frac{1}{2\\pi} \\int_{-\\infty}^{+\\infty} e^{ix(\\upsilon)} \\frac{ln(q+\\psi(\\upsilon+i\\omega_-))}{(\\upsilon+i\\omega_-)^2} d(\\upsilon);$$\n",
    "$$ \\hat{F}^+(\\xi) = \\int_{-\\infty}^{+\\infty} e^{-ix\\xi} F^+(x) dx. $$"
   ]
  },
  {
   "cell_type": "code",
   "execution_count": 13,
   "metadata": {
    "collapsed": false
   },
   "outputs": [],
   "source": [
    "# преобразование Фурье должно допускать вычисление интеграла c \\xi\n",
    "# но поскольку мы имеем дело с ПДО, нужно ещё знать, с какими именно\n",
    "xi_space = fft.fftfreq(M, d=d)\n",
    "upsilon_space = fft.fftfreq(M, d=d)\n",
    "\n",
    "omega_minus = -1\n",
    "\n",
    "# Теперь надо поколдовать с функцией F(x). Кодировать её для каждого отдельного значения x можно, \n",
    "# но для этого придётся использовать медленные методы вычисления интегралов.\n",
    "# Поэтому она должна принимать  массив длиной M и обрабатывать его."
   ]
  },
  {
   "cell_type": "markdown",
   "metadata": {},
   "source": [
    "Вычислим значение подынтегральной части сразу в виде массива: $$intfunc(\\upsilon) = \\frac{ln(q+\\psi(\\upsilon+i\\omega_-))}{(\\upsilon+i\\omega_-)^2}, \\upsilon \\in \\upsilon\\_space$$"
   ]
  },
  {
   "cell_type": "code",
   "execution_count": 14,
   "metadata": {
    "collapsed": false
   },
   "outputs": [],
   "source": [
    "def integrand_plus(upsilon_array):\n",
    "    \"\"\"\n",
    "    принимает и возвращает массив длиной M,\n",
    "    работает (должна) на upsilon_space по умолчанию\n",
    "    тоже должна возвращать\n",
    "    \"\"\"\n",
    "    return np.array([log(q + psi(upsilon + 1j*omega_minus)) / (upsilon + 1j*omega_minus)**2 for upsilon in upsilon_array])\n",
    "\n",
    "# print(integrand_minus(upsilon_space))\n",
    "# plt.plot(upsilon_space, integrand_plus(upsilon_space).real, 'g.')\n",
    "# plt.xlabel('upsilon values', color='m')\n",
    "# plt.ylabel('real component', color='g')\n",
    "# plt.show()\n",
    "\n",
    "# plt.plot(upsilon_space, integrand_plus(upsilon_space).imag, 'r.')\n",
    "# plt.xlabel('xi_space values', color='m')\n",
    "# plt.ylabel('imag component', color='r')\n",
    "# plt.show()"
   ]
  },
  {
   "cell_type": "markdown",
   "metadata": {},
   "source": [
    "Теперь реализуем кусок в виде fft:\n",
    "$$ F^+(x) = 1_{(-\\infty, 0]}(x)e^{-x\\omega_-}\\color{magenta}{\\frac{1}{2\\pi} \\int_{-\\infty}^{+\\infty} e^{ix(\\upsilon)} intfunc(\\upsilon) d(\\upsilon)} $$"
   ]
  },
  {
   "cell_type": "code",
   "execution_count": 15,
   "metadata": {
    "collapsed": false
   },
   "outputs": [],
   "source": [
    "# factor functions\n",
    "def F_plus_capital(x_array):\n",
    "    big_integral = fft.ifft(integrand_plus(upsilon_space))\n",
    "    osc_exponent = [exp(-1 * x_elem * omega_minus) for x_elem in x_array] \n",
    "    weighted_big_integral = np.array(osc_exponent) * np.array(big_integral)\n",
    "    indicator_array = np.where(np.array(x_array) <= 0, 1,0)\n",
    "    return indicator_array * weighted_big_integral\n",
    "\n",
    "# print(F_plus_capital(y_space))\n",
    "# plt.plot(y_space, F_plus_capital(y_space).real, 'g.')\n",
    "# plt.xlabel('y_space values', color='y')\n",
    "# plt.ylabel('real component', color='g')\n",
    "# plt.show()\n",
    "\n",
    "# plt.plot(y_space, F_plus_capital(y_space).imag, 'r.')\n",
    "# plt.xlabel('y_space values', color='y')\n",
    "# plt.ylabel('imag component', color='r')\n",
    "# plt.show()"
   ]
  },
  {
   "cell_type": "markdown",
   "metadata": {},
   "source": [
    "Теперь нас интересует $$ \\hat{F}^+(\\xi) = \\int_{-\\infty}^{+\\infty} e^{-ix\\xi} F^+(x) dx $$"
   ]
  },
  {
   "cell_type": "code",
   "execution_count": 16,
   "metadata": {
    "collapsed": false
   },
   "outputs": [],
   "source": [
    "def F_plus_capital_hat(xi_array):\n",
    "    return fft.fft(F_plus_capital(y_space))\n",
    "\n",
    "# plt.plot(xi_space, F_plus_capital_hat(xi_space).real, 'g.')\n",
    "# plt.xlabel('xi_space values', color='m')\n",
    "# plt.ylabel('imag component', color='r')\n",
    "# plt.show()\n",
    "\n",
    "# plt.plot(xi_space, F_plus_capital_hat(xi_space).imag, 'r.')\n",
    "# plt.xlabel('xi_space values', color='m')\n",
    "# plt.ylabel('imag component', color='r')\n",
    "# plt.show()"
   ]
  },
  {
   "cell_type": "markdown",
   "metadata": {},
   "source": [
    "Наконец, у нас достаточно функций, чтобы закодировать \n",
    "$$ \\phi^+_q(\\xi) = exp[i\\xi F^+(0) - \\xi^2 \\hat{F}^+(\\xi)] $$\n",
    "\n",
    "Но прежде стоит заметить, что нам удобнее, из практических соображений, вычислять $\\phi^+_q(\\xi)$ сразу в виде массива. Тогда нам нужно некоторым специальным образом обработать часть $ -i\\xi F^+(0)$\n"
   ]
  },
  {
   "cell_type": "code",
   "execution_count": 17,
   "metadata": {
    "collapsed": false
   },
   "outputs": [
    {
     "name": "stdout",
     "output_type": "stream",
     "text": [
      "62.8091421177\n",
      "62.8091421177\n"
     ]
    },
    {
     "data": {
      "image/png": "[encoded data removed]",
      "text/plain": [
       "<matplotlib.figure.Figure at 0x21e31a6c9b0>"
      ]
     },
     "metadata": {},
     "output_type": "display_data"
    }
   ],
   "source": [
    "def make_phi_plus_array(xi_array):\n",
    "    first_term = 1j *  np.array(xi_array) * F_plus_capital(np.zeros(len(y_space)))\n",
    "    second_term = - np.array(xi_array) * np.array(xi_array) * F_plus_capital_hat(xi_array)\n",
    "    return exp(first_term + second_term)\n",
    "\n",
    "def make_cf_bs_phi_plus_array(xi_array):\n",
    "    beta_plus = - (gamma - sqrt(gamma**2 + 2*sigma**2 * q))/sigma**2\n",
    "    print(beta_plus)\n",
    "    phi_plus_array = array([beta_plus/(beta_plus - 1j*2*pi*xi) for xi in xi_array])\n",
    "    return phi_plus_array\n",
    "\n",
    "ax1 = plt.subplot(411)\n",
    "plt.plot(xi_space, (make_phi_plus_array(xi_space)).real, 'g.')\n",
    "plt.ylabel('real mex', color='g')\n",
    "plt.setp(ax1.get_xticklabels(), visible=False)\n",
    "\n",
    "ax2 = plt.subplot(412, sharex=ax1)\n",
    "plt.plot(xi_space, make_cf_bs_phi_plus_array(xi_space).real, 'g.')\n",
    "plt.ylabel('real bs', color='g')\n",
    "plt.setp(ax2.get_xticklabels(), visible=False)\n",
    "\n",
    "ax3 = plt.subplot(413, sharex=ax1)\n",
    "plt.plot(xi_space, (make_phi_plus_array(xi_space)).imag, 'r.')\n",
    "plt.ylabel('imag mex', color='r')\n",
    "plt.setp(ax3.get_xticklabels(), visible=False)\n",
    "\n",
    "ax4 = plt.subplot(414, sharex=ax1)\n",
    "plt.plot(xi_space, make_cf_bs_phi_plus_array(xi_space).imag, 'r.')\n",
    "plt.ylabel('imag bs', color='r')\n",
    "\n",
    "plt.xlabel('xi_space values', color='m')\n",
    "\n",
    "filename_real_pic = \"symbol_phi_plus_bs_mex N %2d L %.1f M %2d.png\"  % (N, L, M)\n",
    "plt.savefig(\"out_pictures/\" + filename_real_pic)\n",
    "plt.show()\n",
    "\n",
    "plt.show()"
   ]
  },
  {
   "cell_type": "code",
   "execution_count": null,
   "metadata": {
    "collapsed": true
   },
   "outputs": [],
   "source": []
  }
 ],
 "metadata": {
  "anaconda-cloud": {},
  "kernelspec": {
   "display_name": "Python [conda root]",
   "language": "python",
   "name": "conda-root-py"
  },
  "language_info": {
   "codemirror_mode": {
    "name": "ipython",
    "version": 3
   },
   "file_extension": ".py",
   "mimetype": "text/x-python",
   "name": "python",
   "nbconvert_exporter": "python",
   "pygments_lexer": "ipython3",
   "version": "3.5.2"
  }
 },
 "nbformat": 4,
 "nbformat_minor": 1
}
