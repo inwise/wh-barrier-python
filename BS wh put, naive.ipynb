{
 "cells": [
  {
   "cell_type": "markdown",
   "metadata": {},
   "source": [
    "### Здесь аппарат факторизации применяется к вычислению барьерному опциону put с барьером снизу в модели Б-Ш \"в лоб\""
   ]
  },
  {
   "cell_type": "code",
   "execution_count": 1,
   "metadata": {
    "collapsed": true
   },
   "outputs": [],
   "source": [
    "from math import log, sqrt\n",
    "from numpy import exp, linspace, fft, array, arange, pi\n",
    "import matplotlib.pyplot as plt\n",
    "i = complex(0, 1)"
   ]
  },
  {
   "cell_type": "code",
   "execution_count": 2,
   "metadata": {
    "collapsed": true
   },
   "outputs": [],
   "source": [
    "# model parameters\n",
    "T = 1\n",
    "H_original = 90.0 # limit\n",
    "K_original = 100.0 # strike\n",
    "r_premia = 10 # annual interest rate\n",
    "r = log(r_premia/100 + 1)\n",
    "V0 = 0.316227766\n",
    "sigma = V0\n",
    "gamma = r - 0.5 * sigma**2 # Black-Scholes parameter"
   ]
  },
  {
   "cell_type": "code",
   "execution_count": 3,
   "metadata": {
    "collapsed": false
   },
   "outputs": [
    {
     "name": "stdout",
     "output_type": "stream",
     "text": [
      "-10.558125541136187\n",
      "9.651921944846693\n"
     ]
    },
    {
     "data": {
      "image/png": "[encoded data removed]",
      "text/plain": [
       "<matplotlib.figure.Figure at 0x2a3bb71b4a8>"
      ]
     },
     "metadata": {},
     "output_type": "display_data"
    }
   ],
   "source": [
    "# constants in log scale for price, by Zanette\n",
    "M = 2**12  # number of points in price grid\n",
    "L = 2  # scaling coefficient\n",
    "x_min = L * log(0.5)\n",
    "x_max = L * log(2.0)\n",
    "d = (x_max - x_min) / M  # discretization step\n",
    "K = log(K_original/H_original)\n",
    "H = log(H_original/H_original)\n",
    "x_space = []  # prices array\n",
    "for p_elem_index in range(M):\n",
    "    x_space.append(x_min + p_elem_index * d)\n",
    "\n",
    "original_prices_array = H_original * exp(x_space)\n",
    "# time discretization\n",
    "N = 5  # number_of_time_steps\n",
    "delta_t = T/N\n",
    "q = 1.0/delta_t + r\n",
    "factor = (q*delta_t)**(-1)\n",
    "# beta_plus and beta_minus\n",
    "beta_minus = - (gamma + sqrt(gamma**2 + 2*sigma**2 * q))/sigma**2\n",
    "beta_plus = - (gamma - sqrt(gamma**2 + 2*sigma**2 * q))/sigma**2\n",
    "print(beta_minus)\n",
    "print(beta_plus)\n",
    "\n",
    "def G(x):\n",
    "    \"\"\"payoff_function for a given option type (down-and-out put there)\"\"\"\n",
    "    if (H <= x) and (x <= K):\n",
    "        return K_original - H_original*exp(x)\n",
    "    else:\n",
    "        return 0\n",
    "\n",
    "f_0 = array([G(x_element) for x_element in x_space]) # = g(x) i.e. payoff func\n",
    "\n",
    "xi_space = fft.fftfreq(M, d=d)\n",
    "\n",
    "# factor functions\n",
    "phi_plus_array = array([beta_plus/(beta_plus - i*2*pi*xi) for xi in xi_space])\n",
    "phi_minus_array = array([-beta_minus/(-beta_minus + i*2*pi*xi) for xi in xi_space])\n",
    "\n",
    "def indicator(a):\n",
    "    \"\"\"the indicator influences the function argument, not value.\n",
    "    So here it iterates through x-domain and cuts any\n",
    "    values of function with an argument less than H\"\"\"\n",
    "    indicated = []\n",
    "    for index in range(len(x_space)):\n",
    "        if x_space[index] > H:\n",
    "            indicated.append(a[index])\n",
    "        else:\n",
    "            indicated.append(0)\n",
    "    return indicated\n",
    "\n",
    "# main cycle (iterating over time)\n",
    "f_n = array(f_0)\n",
    "#plt.plot(original_prices_array, f_n)\n",
    "for i in range(N):\n",
    "   f_n_plus_1 = factor * fft.ifft(phi_minus_array *\n",
    "       fft.fft(indicator(fft.ifft(phi_plus_array * fft.fft(f_n)))))\n",
    "   f_n = f_n_plus_1\n",
    "plt.plot(original_prices_array, f_n_plus_1.real)\n",
    "\n",
    "plt.savefig(\"out.png\")\n",
    "plt.show()"
   ]
  },
  {
   "cell_type": "code",
   "execution_count": null,
   "metadata": {
    "collapsed": true
   },
   "outputs": [],
   "source": []
  }
 ],
 "metadata": {
  "anaconda-cloud": {},
  "kernelspec": {
   "display_name": "Python [conda root]",
   "language": "python",
   "name": "conda-root-py"
  },
  "language_info": {
   "codemirror_mode": {
    "name": "ipython",
    "version": 3
   },
   "file_extension": ".py",
   "mimetype": "text/x-python",
   "name": "python",
   "nbconvert_exporter": "python",
   "pygments_lexer": "ipython3",
   "version": "3.5.2"
  }
 },
 "nbformat": 4,
 "nbformat_minor": 1
}
