{
 "cells": [
  {
   "cell_type": "markdown",
   "metadata": {},
   "source": [
    "# Тестирование инварианта для преобразования Фурье, частоты в радианах."
   ]
  },
  {
   "cell_type": "markdown",
   "metadata": {},
   "source": [
    "$\\hat{f(\\xi)} = \\int_{-\\infty}^{\\infty}e^{-ix\\xi}f(x)dx$,\n",
    "\n",
    "инвариант: $f(x) = e^{-\\frac{x^2}{2}}$, константа: $\\sqrt{2\\pi}$"
   ]
  },
  {
   "cell_type": "markdown",
   "metadata": {},
   "source": [
    "Обоснование:\n",
    "\n",
    "Преобразование Фурье вида $\\hat{f(\\xi)} = \\int_{-\\infty}^{\\infty}e^{-ix\\xi}f(x)dx$, действуя на $f(x) = e^{-\\frac{x^2}{2}}$, принимает вид\n",
    "\n",
    "$\\hat{f(\\xi)} = \n",
    "\\int_{-\\infty}^{\\infty}e^{-ix\\xi} e^{-\\frac{x^2}{2}}dx = \n",
    "\\int_{-\\infty}^{\\infty}e^{-ix\\xi -\\frac{x^2}{2}}dx = \n",
    "\\int_{-\\infty}^{\\infty}e^{-(\\frac{x}{\\sqrt{2}})^2 - ix\\xi - (\\frac{i\\xi}{\\sqrt{2}})^2 + (\\frac{i\\xi}{\\sqrt{2}})^2}dx = \n",
    "\\int_{-\\infty}^{\\infty}e^{-(\\frac{x}{\\sqrt{2}} + \\frac{i\\xi}{\\sqrt{2}})^2 - (\\frac{\\xi}{\\sqrt{2}})^2}dx = \n",
    "e^{-(\\frac{\\xi}{\\sqrt{2}})^2}\\int_{-\\infty}^{\\infty}e^{-(\\frac{x}{\\sqrt{2}} + \\frac{i\\xi}{\\sqrt{2}})^2}dx =\n",
    "\\color{blue}{// t = \\frac{x}{\\sqrt{2}} + \\frac{i\\xi}{\\sqrt{2}}, dt = \\frac{1}{\\sqrt{2}}dx//}=\n",
    "e^{-\\frac{\\xi^2}{2}} \\cdot \\sqrt{2\\pi}$"
   ]
  },
  {
   "cell_type": "markdown",
   "metadata": {},
   "source": [
    "Библиотечное преобразование имеет неизменный вид $\\hat{f(\\xi)} = \\int_{-\\infty}^{\\infty}e^{-2\\pi ix\\xi}f(x)dx$\n",
    "\n",
    "То, которое нас интересует - $\\hat{f(\\xi)} = \\int_{-\\infty}^{\\infty}e^{-ix\\xi}f(x)dx$.\n",
    "\n",
    "Для того, чтобы их связать, используем явный вывод для связи дискретных формул.\n",
    "\n",
    "$a_k =$"
   ]
  },
  {
   "cell_type": "code",
   "execution_count": 1,
   "metadata": {
    "collapsed": true
   },
   "outputs": [],
   "source": [
    "import numpy as np\n",
    "from numpy import fft, pi, sqrt\n",
    "from scipy import integrate\n",
    "from matplotlib import pyplot as plt"
   ]
  },
  {
   "cell_type": "code",
   "execution_count": 2,
   "metadata": {
    "collapsed": true
   },
   "outputs": [],
   "source": [
    "def make_rad_fft(f_x, d):\n",
    "    '''\n",
    "    Вычисляет преобразование Фурье без двух \"пи\" в показателе экспоненты\n",
    "    \n",
    "    Параметры:\n",
    "    \n",
    "    f_x - массив значений функции, задаваемый \"как есть\", без особенностей хранения\n",
    "    и определённый на диапазоне [-M*dx/2, M*dx/2] в M = 2**N равноудалённых точках, без последней.\n",
    "    \n",
    "    d = dx - желаемый шаг по переменной x\n",
    "    \n",
    "    Области определения:\n",
    "    \n",
    "    xi_space = np.linspace( -pi/dx, pi/dx, num = M, endpoint = False)\n",
    "    x_space = np.linspace( -M*dx/2, M*dx/2, num = M, endpoint = False)\n",
    "    '''\n",
    "    dx = d\n",
    "    M = len(f_x)\n",
    "    \n",
    "    sign_change_k = np.array([(-1)**k for k in range(0, M)])\n",
    "    sign_change_l = np.array([(-1)**l for l in range(0, M)])\n",
    "    #учитываем порядок хранения\n",
    "    sign_change_l = fft.fftshift(sign_change_l)\n",
    "\n",
    "    f = sign_change_k * f_x\n",
    "    f_hat = dx * sign_change_l * fft.fft(f)\n",
    "    \n",
    "    # избегаем особенностей хранения результатов fft, нам они не нужны.\n",
    "    return fft.fftshift(f_hat)"
   ]
  },
  {
   "cell_type": "code",
   "execution_count": 3,
   "metadata": {
    "collapsed": false
   },
   "outputs": [
    {
     "data": {
      "image/png": "[encoded data removed]",
      "text/plain": [
       "<matplotlib.figure.Figure at 0x7f5728c9f780>"
      ]
     },
     "metadata": {},
     "output_type": "display_data"
    },
    {
     "data": {
      "image/png": "[encoded data removed]",
      "text/plain": [
       "<matplotlib.figure.Figure at 0x7f5726ee1b00>"
      ]
     },
     "metadata": {},
     "output_type": "display_data"
    }
   ],
   "source": [
    "M = 2**7\n",
    "x_space = np.linspace(-20, 20, num = M, endpoint = False)\n",
    "dx = abs(x_space[1] - x_space[0])\n",
    "#инвариант для преобразований без двух пи\n",
    "f = np.exp(-(x_space * x_space)/2)\n",
    "\n",
    "plt.plot(x_space[(x_space>-5) & (x_space<5)], f[(x_space>-5) & (x_space<5)], 'g.')\n",
    "plt.show()\n",
    "\n",
    "xi_space = 2*pi*fft.fftfreq(M, d = dx)\n",
    "\n",
    "f_hat= (1/np.sqrt(2*np.pi)) * make_rad_fft(f, dx)\n",
    "# Рисуем только те же значения xi, для которых мы определяли функцию по x, \n",
    "# чтобы сравнение картинок получилось наглядным\n",
    "# Мы не использовали сдвиг ответа, но это то, что нужно сделать, если потом нужно применять не ifft\n",
    "\n",
    "plt.plot(xi_space[(xi_space>-5) & (xi_space<5)], f_hat.real[(xi_space>-5) & (xi_space<5)], 'b.')\n",
    "plt.show()\n",
    "\n",
    "# мнимая часть мала, но есть. Можно раскомментировать, чтобы на неё посмотреть.\n",
    "# plt.plot(xi_space[(xi_space>-10) & (xi_space<10)], f_hat.imag[(xi_space>-10) & (xi_space<10)], 'r.')\n",
    "# plt.show()"
   ]
  }
 ],
 "metadata": {
  "anaconda-cloud": {},
  "kernelspec": {
   "display_name": "Python [conda root]",
   "language": "python",
   "name": "conda-root-py"
  },
  "language_info": {
   "codemirror_mode": {
    "name": "ipython",
    "version": 3
   },
   "file_extension": ".py",
   "mimetype": "text/x-python",
   "name": "python",
   "nbconvert_exporter": "python",
   "pygments_lexer": "ipython3",
   "version": "3.5.2"
  }
 },
 "nbformat": 4,
 "nbformat_minor": 1
}
