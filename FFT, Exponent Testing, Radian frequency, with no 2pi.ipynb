{
 "cells": [
  {
   "cell_type": "markdown",
   "metadata": {},
   "source": [
    "# Тестирование инварианта для преобразования Фурье, частоты в радианах."
   ]
  },
  {
   "cell_type": "markdown",
   "metadata": {},
   "source": [
    "$\\hat{f(\\xi)} = \\int_{-\\infty}^{\\infty}e^{-ix\\xi}f(x)dx$,\n",
    "\n",
    "инвариант: $f(x) = e^{-\\frac{x^2}{2}}$, константа: $\\sqrt{2\\pi}$"
   ]
  },
  {
   "cell_type": "markdown",
   "metadata": {},
   "source": [
    "Обоснование:\n",
    "\n",
    "Преобразование Фурье вида $\\hat{f(\\xi)} = \\int_{-\\infty}^{\\infty}e^{-ix\\xi}f(x)dx$, действуя на $f(x) = e^{-\\frac{x^2}{2}}$, принимает вид\n",
    "\n",
    "$\\hat{f(\\xi)} = \n",
    "\\int_{-\\infty}^{\\infty}e^{-ix\\xi} e^{-\\frac{x^2}{2}}dx = \n",
    "\\int_{-\\infty}^{\\infty}e^{-ix\\xi -\\frac{x^2}{2}}dx = \n",
    "\\int_{-\\infty}^{\\infty}e^{-(\\frac{x}{\\sqrt{2}})^2 - ix\\xi - (\\frac{i\\xi}{\\sqrt{2}})^2 + (\\frac{i\\xi}{\\sqrt{2}})^2}dx = \n",
    "\\int_{-\\infty}^{\\infty}e^{-(\\frac{x}{\\sqrt{2}} + \\frac{i\\xi}{\\sqrt{2}})^2 - (\\frac{\\xi}{\\sqrt{2}})^2}dx = \n",
    "e^{-(\\frac{\\xi}{\\sqrt{2}})^2}\\int_{-\\infty}^{\\infty}e^{-(\\frac{x}{\\sqrt{2}} + \\frac{i\\xi}{\\sqrt{2}})^2}dx =\n",
    "\\color{blue}{// t = \\frac{x}{\\sqrt{2}} + \\frac{i\\xi}{\\sqrt{2}}, dt = \\frac{1}{\\sqrt{2}}dx//}=\n",
    "e^{-\\frac{\\xi^2}{2}} \\cdot \\sqrt{2\\pi}$"
   ]
  },
  {
   "cell_type": "markdown",
   "metadata": {},
   "source": [
    "Библиотечное преобразование имеет неизменный вид $\\hat{f(\\xi)} = \\int_{-\\infty}^{\\infty}e^{-2\\pi ix\\xi}f(x)dx$\n",
    "\n",
    "То, которое нас интересует - $\\hat{f(\\xi)} = \\int_{-\\infty}^{\\infty}e^{-ix\\xi}f(x)dx$.\n",
    "\n",
    "Для того, чтобы их связать, можно использовать теоремы о растяжении, согласно которым:\n",
    "\n",
    "1. $f(ax) <=> \\frac{1}{|a|} \\hat{f}(\\frac{\\xi}{a})$\n",
    "2. $\\frac{1}{|a|} f(\\frac{x}{a}) <=> \\hat{f}(a\\xi)$"
   ]
  },
  {
   "cell_type": "markdown",
   "metadata": {},
   "source": [
    "Главный вопрос, который ставит перед нами такое положение вещей, может быть сформулирован следующим образом:\n",
    "\n",
    "Пусть известна функция $f_1(x)$ и её образ $\\hat{f_1(\\xi)} = \\int_{-\\infty}^{\\infty}e^{-ix\\xi}f_1(x)dx$,\n",
    "\n",
    "Нужно отыскать такую функцю $f_2(t)$, чтобы её образ $\\hat{f_2(\\xi)} = \\int_{-\\infty}^{\\infty}e^{-2\\pi ix\\xi}f_2(t)dt$ был равен $\\hat{f_1(\\xi)}$ (можно с константами или дополнительными множителями).\n",
    "\n",
    "Хорошим было бы положение вещей, при которых из $f_1(x)$ было бы легко получить $f_2(x)$."
   ]
  },
  {
   "cell_type": "markdown",
   "metadata": {},
   "source": [
    "Воспользовавшись теоремой о растяжении, положим $f_2(x) = f_1(2\\pi x)$. Тогда $f_2(x) = f_1(2\\pi x) <=> \\frac{1}{2\\pi} \\hat{f_2}(\\frac{\\xi}{2\\pi})$\n",
    "\n",
    "Попробуем проделать это (похоже, работает)."
   ]
  },
  {
   "cell_type": "code",
   "execution_count": 7,
   "metadata": {
    "collapsed": false
   },
   "outputs": [
    {
     "data": {
      "image/png": "[encoded data removed]",
      "text/plain": [
       "<matplotlib.figure.Figure at 0x7faa442b7160>"
      ]
     },
     "metadata": {},
     "output_type": "display_data"
    },
    {
     "data": {
      "image/png": "[encoded data removed]",
      "text/plain": [
       "<matplotlib.figure.Figure at 0x7faa441eea90>"
      ]
     },
     "metadata": {},
     "output_type": "display_data"
    }
   ],
   "source": [
    "import numpy as np\n",
    "from numpy import fft, pi, sqrt\n",
    "from scipy import integrate\n",
    "from matplotlib import pyplot as plt\n",
    "\n",
    "M = 2**14\n",
    "x_space = np.linspace(-20, 20, num = M, endpoint = False)\n",
    "dx = abs(x_space[1] - x_space[0])\n",
    "#инвариант для преобразований без двух пи\n",
    "f1 = np.exp(-(x_space * x_space)/2)\n",
    "\n",
    "plt.plot(x_space[(x_space>-5) & (x_space<5)], f1[(x_space>-5) & (x_space<5)], 'g.')\n",
    "plt.show()\n",
    "\n",
    "f2 = np.exp(-((2*pi*x_space) * (2*pi*x_space))/2)\n",
    "\n",
    "f_hat = 2*pi*fft.fft(f2)\n",
    "xi_space = fft.fftfreq(M, d = dx)\n",
    "\n",
    "offset_factor = np.exp(2*pi*1j* (M//2) * dx * xi_space )\n",
    "         \n",
    "f_hat = 1/np.sqrt(2*np.pi) * dx * offset_factor * f_hat\n",
    "\n",
    "# Рисуем только те же значения xi, для которых мы определяли функцию по x, \n",
    "# чтобы сравнение картинок получилось наглядным\n",
    "# Мы не использовали сдвиг ответа, но это то, что нужно сделать, если потом нужно применять не ifft\n",
    "\n",
    "plt.plot(xi_space[(xi_space>-5) & (xi_space<5)], f_hat.real[(xi_space>-5) & (xi_space<5)], 'b.')\n",
    "plt.show()\n",
    "\n",
    "# мнимая часть мала, но есть. Можно раскомментировать, чтобы на неё посмотреть.\n",
    "# plt.plot(xi_space[(xi_space>-10) & (xi_space<10)], f_hat.imag[(xi_space>-10) & (xi_space<10)], 'r.')\n",
    "# plt.show()"
   ]
  },
  {
   "cell_type": "code",
   "execution_count": null,
   "metadata": {
    "collapsed": true
   },
   "outputs": [],
   "source": []
  }
 ],
 "metadata": {
  "anaconda-cloud": {},
  "kernelspec": {
   "display_name": "Python [conda root]",
   "language": "python",
   "name": "conda-root-py"
  },
  "language_info": {
   "codemirror_mode": {
    "name": "ipython",
    "version": 3
   },
   "file_extension": ".py",
   "mimetype": "text/x-python",
   "name": "python",
   "nbconvert_exporter": "python",
   "pygments_lexer": "ipython3",
   "version": "3.5.2"
  }
 },
 "nbformat": 4,
 "nbformat_minor": 1
}
